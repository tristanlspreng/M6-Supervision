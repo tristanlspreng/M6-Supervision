{
 "cells": [
  {
   "cell_type": "raw",
   "id": "feaa3afd",
   "metadata": {},
   "source": [
    "Exercise 5.1\n",
    "- calculate mean square displacement (MSD) averaged over all particles for all timesteps\n",
    "- plot MSD against time\n",
    "- calculate Diffustion coefficient from mean square displacement "
   ]
  },
  {
   "cell_type": "code",
   "execution_count": 3,
   "id": "91f9d876",
   "metadata": {},
   "outputs": [],
   "source": [
    "import matplotlib.pyplot as plt\n",
    "import numpy as np\n",
    "import pandas\n",
    "from scipy.stats import linregress"
   ]
  },
  {
   "cell_type": "code",
   "execution_count": 4,
   "id": "526163a0",
   "metadata": {},
   "outputs": [
    {
     "name": "stdout",
     "output_type": "stream",
     "text": [
      "Volume of simulation box is 8.182693580260386e-26 m^3\n",
      "The coefficent Tau is 1.7896506380436378e-22\n"
     ]
    }
   ],
   "source": [
    "# Constants \n",
    "lower = 1.8292885330785609e-09\n",
    "upper = 6.1707114669130533e-09\n",
    "volume = (upper - lower) ** 3\n",
    "print(\"Volume of simulation box is\", volume, \"m^3\")\n",
    "\n",
    "mass = 6.63e-26 # set mass of interacting potentials, take hydrogen gas for example (in kg)\n",
    "epsilon = 0.24 # in kcal/mol\n",
    "sigma = 3.405e-10 # in m\n",
    "tau = np.sqrt(mass*sigma**2/epsilon)\n",
    "print(\"The coefficent Tau is\", tau)"
   ]
  },
  {
   "cell_type": "code",
   "execution_count": 5,
   "id": "ca29c53b",
   "metadata": {},
   "outputs": [
    {
     "name": "stdout",
     "output_type": "stream",
     "text": [
      "100000\n"
     ]
    }
   ],
   "source": [
    "# generate list with all line numbers that will be read in \n",
    "header = 9\n",
    "atoms_no = 2000\n",
    "timesteps = 50\n",
    "size = 100000\n",
    "\n",
    "\n",
    "line_numbers = []\n",
    "for i in range(size + header*timesteps):\n",
    "    if (i+1) % (atoms_no + header) <= header and (i+1) % (atoms_no + header) != 0:\n",
    "        pass\n",
    "    else:\n",
    "        line_numbers.append(i)\n",
    "        \n",
    "print(len(line_numbers))"
   ]
  },
  {
   "cell_type": "code",
   "execution_count": 6,
   "id": "63c2e67b",
   "metadata": {},
   "outputs": [],
   "source": [
    "# Read in Data Files\n",
    "\n",
    "with open(r\"diffusionB.xyz\", 'r') as file:\n",
    "    lines = []\n",
    "    for i, line in enumerate(file):\n",
    "        if i in line_numbers:\n",
    "            lines.append(line.strip())\n",
    "        else:\n",
    "            pass"
   ]
  },
  {
   "cell_type": "code",
   "execution_count": 7,
   "id": "331c607f",
   "metadata": {},
   "outputs": [],
   "source": [
    "input_array = np.array(lines)\n",
    "new_input = np.array([np.array([float(i.strip()) for i in j.split(' ') if i]) for j in input_array])\n",
    "array = np.transpose(new_input)\n",
    "\n",
    "item = array[0]\n",
    "atom_float = array[1]\n",
    "atom = atom_float.astype(int)\n",
    "identity = array[2]\n",
    "\n",
    "x_disordered = 10e-10 * array[4] # x-position inside box (in m)\n",
    "y_disordered = 10e-10 * array[5] \n",
    "z_disordered = 10e-10 * array[6]"
   ]
  },
  {
   "cell_type": "code",
   "execution_count": 14,
   "id": "d1ce604e",
   "metadata": {},
   "outputs": [],
   "source": [
    "# Make arrays with the 50 positions of the individual atoms \n",
    "\n",
    "atoms = []\n",
    "x = []\n",
    "y = []\n",
    "z = []\n",
    "\n",
    "\n",
    "for i in range(1, atoms_no +1):\n",
    "    for j in enumerate(atom):\n",
    "        if j[1] == i:\n",
    "            atoms.append(atom[j[0]])\n",
    "            x.append(x_disordered[j[0]])\n",
    "            y.append(y_disordered[j[0]])\n",
    "            z.append(z_disordered[j[0]])  \n",
    "        else:\n",
    "            pass"
   ]
  },
  {
   "cell_type": "code",
   "execution_count": null,
   "id": "085def9a",
   "metadata": {},
   "outputs": [],
   "source": []
  },
  {
   "cell_type": "code",
   "execution_count": 9,
   "id": "0b3921c6",
   "metadata": {},
   "outputs": [],
   "source": [
    "def distance(x, y, z):\n",
    "    return np.sqrt((x[j])**2 + (y[j])**2 + (z[j])**2)"
   ]
  },
  {
   "cell_type": "code",
   "execution_count": 13,
   "id": "711035e4",
   "metadata": {},
   "outputs": [
    {
     "ename": "IndexError",
     "evalue": "index 50 is out of bounds for axis 0 with size 49",
     "output_type": "error",
     "traceback": [
      "\u001b[0;31m---------------------------------------------------------------------------\u001b[0m",
      "\u001b[0;31mIndexError\u001b[0m                                Traceback (most recent call last)",
      "\u001b[0;32m<ipython-input-13-bb99a51b21ce>\u001b[0m in \u001b[0;36m<module>\u001b[0;34m\u001b[0m\n\u001b[1;32m      7\u001b[0m \u001b[0;31m# Distances at t=0 for all 2000 atoms\u001b[0m\u001b[0;34m\u001b[0m\u001b[0;34m\u001b[0m\u001b[0;34m\u001b[0m\u001b[0m\n\u001b[1;32m      8\u001b[0m \u001b[0;32mfor\u001b[0m \u001b[0mj\u001b[0m \u001b[0;32min\u001b[0m \u001b[0mrange\u001b[0m\u001b[0;34m(\u001b[0m\u001b[0;36m0\u001b[0m\u001b[0;34m,\u001b[0m \u001b[0;36m100000\u001b[0m\u001b[0;34m,\u001b[0m \u001b[0;36m50\u001b[0m\u001b[0;34m)\u001b[0m\u001b[0;34m:\u001b[0m\u001b[0;34m\u001b[0m\u001b[0;34m\u001b[0m\u001b[0m\n\u001b[0;32m----> 9\u001b[0;31m     \u001b[0mdistances_0\u001b[0m\u001b[0;34m.\u001b[0m\u001b[0mappend\u001b[0m\u001b[0;34m(\u001b[0m\u001b[0mdistance\u001b[0m\u001b[0;34m(\u001b[0m\u001b[0mx\u001b[0m\u001b[0;34m,\u001b[0m \u001b[0my\u001b[0m\u001b[0;34m,\u001b[0m \u001b[0mz\u001b[0m\u001b[0;34m)\u001b[0m\u001b[0;34m)\u001b[0m\u001b[0;34m\u001b[0m\u001b[0;34m\u001b[0m\u001b[0m\n\u001b[0m\u001b[1;32m     10\u001b[0m \u001b[0;34m\u001b[0m\u001b[0m\n\u001b[1;32m     11\u001b[0m \u001b[0;31m# square displacements relative to t=0 for all atoms\u001b[0m\u001b[0;34m\u001b[0m\u001b[0;34m\u001b[0m\u001b[0;34m\u001b[0m\u001b[0m\n",
      "\u001b[0;32m<ipython-input-9-44159111972f>\u001b[0m in \u001b[0;36mdistance\u001b[0;34m(x, y, z)\u001b[0m\n\u001b[1;32m      1\u001b[0m \u001b[0;32mdef\u001b[0m \u001b[0mdistance\u001b[0m\u001b[0;34m(\u001b[0m\u001b[0mx\u001b[0m\u001b[0;34m,\u001b[0m \u001b[0my\u001b[0m\u001b[0;34m,\u001b[0m \u001b[0mz\u001b[0m\u001b[0;34m)\u001b[0m\u001b[0;34m:\u001b[0m\u001b[0;34m\u001b[0m\u001b[0;34m\u001b[0m\u001b[0m\n\u001b[0;32m----> 2\u001b[0;31m     \u001b[0;32mreturn\u001b[0m \u001b[0mnp\u001b[0m\u001b[0;34m.\u001b[0m\u001b[0msqrt\u001b[0m\u001b[0;34m(\u001b[0m\u001b[0;34m(\u001b[0m\u001b[0mx\u001b[0m\u001b[0;34m[\u001b[0m\u001b[0mj\u001b[0m\u001b[0;34m]\u001b[0m\u001b[0;34m)\u001b[0m\u001b[0;34m**\u001b[0m\u001b[0;36m2\u001b[0m \u001b[0;34m+\u001b[0m \u001b[0;34m(\u001b[0m\u001b[0my\u001b[0m\u001b[0;34m[\u001b[0m\u001b[0mj\u001b[0m\u001b[0;34m]\u001b[0m\u001b[0;34m)\u001b[0m\u001b[0;34m**\u001b[0m\u001b[0;36m2\u001b[0m \u001b[0;34m+\u001b[0m \u001b[0;34m(\u001b[0m\u001b[0mz\u001b[0m\u001b[0;34m[\u001b[0m\u001b[0mj\u001b[0m\u001b[0;34m]\u001b[0m\u001b[0;34m)\u001b[0m\u001b[0;34m**\u001b[0m\u001b[0;36m2\u001b[0m\u001b[0;34m)\u001b[0m\u001b[0;34m\u001b[0m\u001b[0;34m\u001b[0m\u001b[0m\n\u001b[0m",
      "\u001b[0;31mIndexError\u001b[0m: index 50 is out of bounds for axis 0 with size 49"
     ]
    }
   ],
   "source": [
    "# Mean square displacement (compute for each timestep)\n",
    "\n",
    "distances_0 = []\n",
    "square_distances = []\n",
    "MSD = []\n",
    "\n",
    "# Distances at t=0 for all 2000 atoms \n",
    "for j in range(0, 100000, 50): \n",
    "    distances_0.append(distance(x, y, z))\n",
    "\n",
    "# square displacements relative to t=0 for all atoms \n",
    "for j in range(0, 100000):\n",
    "    atom_iteration = int(j / 50)\n",
    "    if j % 50 == 0:\n",
    "        pass\n",
    "    else:\n",
    "        distance_timestep = (distance(x, y, z) - distances_0[atom_iteration]) ** 2\n",
    "        square_distances.append(distance_timestep)\n",
    "    \n",
    "# MSD for the 49 timesteps after t=0\n",
    "for i in range(0, 49):\n",
    "    MSD_t = 0\n",
    "    for j in range(0+i, len(square_distances), 49):\n",
    "        MSD_t += 1/2000 * square_distances[j]\n",
    "    MSD.append(MSD_t)\n",
    "\n",
    "    \n",
    "    \n",
    "#for i in range(1, timesteps):\n",
    "#    for j in range(1, atoms_no+1):\n",
    "#    MSD.append(distance(x, y, z)) \n",
    "\n",
    "print(len(square_distances))\n",
    "print(MSD)"
   ]
  },
  {
   "cell_type": "code",
   "execution_count": 11,
   "id": "06d632d1",
   "metadata": {},
   "outputs": [
    {
     "data": {
      "text/plain": [
       "Text(0, 0.5, 'MSD [m^2]')"
      ]
     },
     "execution_count": 11,
     "metadata": {},
     "output_type": "execute_result"
    },
    {
     "data": {
      "image/png": "[encoded data removed]",
      "text/plain": [
       "<Figure size 432x288 with 1 Axes>"
      ]
     },
     "metadata": {
      "needs_background": "light"
     },
     "output_type": "display_data"
    }
   ],
   "source": [
    "timestep = 10000 * 2 * 10e-15 # duration of timestep in seconds \n",
    "x = timestep * np.arange(30)\n",
    "plt.plot(x, MSD)\n",
    "plt.xlabel('time [s]')\n",
    "plt.ylabel('MSD [m^2]')"
   ]
  },
  {
   "cell_type": "markdown",
   "id": "f21b13ed",
   "metadata": {},
   "source": [
    "The system diffuses linearly until ca. 6 ns, when it hits a boundary which prevents further diffusion. To calculate the diffusion constant, we therefore only consider the MSD values up until 6 ns."
   ]
  },
  {
   "cell_type": "code",
   "execution_count": 17,
   "id": "f8e9cee4",
   "metadata": {
    "scrolled": true
   },
   "outputs": [],
   "source": [
    "# Calculate diffusion coefficient: MSD = 2nDt\n",
    "# n - number of dimensions: n=3\n",
    "# Thus MSD = 6Dt -> D = MSD/(6t) = slope / 6\n",
    "\n"
   ]
  },
  {
   "cell_type": "code",
   "execution_count": 18,
   "id": "d4c333fb",
   "metadata": {
    "scrolled": true
   },
   "outputs": [
    {
     "name": "stdout",
     "output_type": "stream",
     "text": [
      "The Diffusion coefficient is 9.666666666666667e-12 m^2/s.\n",
      "The Diffusion coefficient in reduced units is 1.4921441145551407e-14 Angstrom/Tau.\n"
     ]
    }
   ],
   "source": [
    "D = 5.8e-11 / 6\n",
    "print('The Diffusion coefficient is', D, 'm^2/s.')\n",
    "D_reduced_units = D / (sigma**2) * tau\n",
    "print('The Diffusion coefficient in reduced units is', D_reduced_units, 'Angstrom/Tau.')"
   ]
  }
 ],
 "metadata": {
  "kernelspec": {
   "display_name": "Python 3",
   "language": "python",
   "name": "python3"
  },
  "language_info": {
   "codemirror_mode": {
    "name": "ipython",
    "version": 3
   },
   "file_extension": ".py",
   "mimetype": "text/x-python",
   "name": "python",
   "nbconvert_exporter": "python",
   "pygments_lexer": "ipython3",
   "version": "3.8.8"
  }
 },
 "nbformat": 4,
 "nbformat_minor": 5
}
