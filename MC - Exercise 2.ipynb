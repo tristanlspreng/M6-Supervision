{
 "cells": [
  {
   "cell_type": "code",
   "execution_count": 2,
   "id": "00f5b49c",
   "metadata": {},
   "outputs": [],
   "source": [
    "import numpy as np\n",
    "import matplotlib.pyplot as plt"
   ]
  },
  {
   "cell_type": "code",
   "execution_count": 7,
   "id": "6707c66a",
   "metadata": {},
   "outputs": [],
   "source": [
    "# Define function\n",
    "\n",
    "def F(x):\n",
    "    return 3*x**2"
   ]
  },
  {
   "cell_type": "code",
   "execution_count": 21,
   "id": "ef3e951c",
   "metadata": {},
   "outputs": [
    {
     "name": "stdout",
     "output_type": "stream",
     "text": [
      "The integral approximated by the trapezoidal rule of 3x^2 from 0 to 1 is: 1.0000004999999996\n"
     ]
    }
   ],
   "source": [
    "# 1. Trapezoidal rule \n",
    "number = 1000\n",
    "delta_x = 1/number\n",
    "area = 0\n",
    "\n",
    "for i in range(number):  \n",
    "    x_i = i * delta_x\n",
    "    x_i_1 = (i+1)*delta_x\n",
    "    area += (F(x_i)+F(x_i_1))/2*delta_x\n",
    "    \n",
    "print(\"The integral approximated by the trapezoidal rule of 3x^2 from 0 to 1 is:\",area)      "
   ]
  },
  {
   "cell_type": "code",
   "execution_count": 180,
   "id": "6226753a",
   "metadata": {},
   "outputs": [
    {
     "name": "stdout",
     "output_type": "stream",
     "text": [
      "Mean: 0.9993449488041749\n",
      "Variance: 0.0008114013382882842\n"
     ]
    },
    {
     "data": {
      "image/png": "[encoded data removed]",
      "text/plain": [
       "<Figure size 432x288 with 1 Axes>"
      ]
     },
     "metadata": {
      "needs_background": "light"
     },
     "output_type": "display_data"
    }
   ],
   "source": [
    "# 2. Monte Carlo with importance sampling and g(x)=1 as weighting function\n",
    "\n",
    "number = 1000\n",
    "\n",
    "def f(x):\n",
    "    return 3*x**2\n",
    "def g(x): \n",
    "    return 1\n",
    "\n",
    "\n",
    "integral = []\n",
    "\n",
    "for j in range(1000):\n",
    "    sum_f = 0 \n",
    "    for i in range(number):\n",
    "        x = np.random.uniform(0, 1)\n",
    "        sum_f += f(x)\n",
    "    integral.append(sum_f / number)\n",
    "    \n",
    "# Plot histogram\n",
    "\n",
    "plt.hist(integral, density=True, bins=30)  # density=False would make counts\n",
    "plt.ylabel('Probability')\n",
    "plt.xlabel('Data')\n",
    "print(\"Mean:\", np.mean(integral))\n",
    "print(\"Variance:\", np.var(integral))"
   ]
  },
  {
   "cell_type": "code",
   "execution_count": 60,
   "id": "ea5dd796",
   "metadata": {},
   "outputs": [
    {
     "name": "stdout",
     "output_type": "stream",
     "text": [
      "Monte Carlo integration result: 0.9991460813111074\n",
      "Mean: 0.9998936696333313\n",
      "Variance: 1.2152590406966745e-05\n"
     ]
    },
    {
     "data": {
      "image/png": "[encoded data removed]",
      "text/plain": [
       "<Figure size 432x288 with 1 Axes>"
      ]
     },
     "metadata": {
      "needs_background": "light"
     },
     "output_type": "display_data"
    }
   ],
   "source": [
    "# 3. Monte Carlo with importance sampling and g(x)=2x as weighting function\n",
    "\n",
    "import random\n",
    "import matplotlib.pyplot as plt\n",
    "import numpy as np\n",
    "\n",
    "# Define the functions f(x) and g(x)\n",
    "def f(x):\n",
    "    return 3*x**2\n",
    "\n",
    "def g(x):\n",
    "    return 2*x\n",
    "\n",
    "# Set the number of samples to use\n",
    "num_samples = 20000\n",
    "\n",
    "# Define the integration interval [a, b]\n",
    "a = 0\n",
    "b = 1\n",
    "\n",
    "# Calculate the maximum value of f(x)/g(x) in the integration interval\n",
    "max_fg = f(b)/g(b)\n",
    "\n",
    "\n",
    "# Initialize the integral estimate and the sum of weights\n",
    "\n",
    "integral_array = []\n",
    "\n",
    "# Generate random samples and accumulate the estimate and weights\n",
    "for j in range(1000):\n",
    "    integral = 0\n",
    "    sum_weights = 0   \n",
    "    for i in range(num_samples):\n",
    "        # Generate a random sample using g(x) as the probability density function\n",
    "        x = random.uniform(a, b)\n",
    "        w = f(x)/g(x)\n",
    "        if w >= random.uniform(0, max_fg):\n",
    "            # If the weight is above the acceptance threshold, add it to the estimate and the sum of weights\n",
    "            integral += w\n",
    "            sum_weights += 1\n",
    "\n",
    "# Calculate the final integral estimate\n",
    "    integral /= sum_weights\n",
    "    integral_array.append(integral)\n",
    "    \n",
    "\n",
    "# Print the result\n",
    "print(\"Monte Carlo integration result:\", integral)\n",
    "plt.hist(integral_array, density=True, bins=30)  # density=False would make counts\n",
    "plt.ylabel('Probability')\n",
    "plt.xlabel('Data')\n",
    "print(\"Mean:\", np.mean(integral_array))\n",
    "print(\"Variance:\", np.var(integral_array))"
   ]
  },
  {
   "cell_type": "markdown",
   "id": "06866711",
   "metadata": {},
   "source": [
    "The variance with 10000 samples is ca. 2.62*10^-5 and reduces to 1.21*10^-5 when 20000 samples are considered. As we doubled the number of samples the variance approximately halved. The relationship is thus var α 1/N."
   ]
  },
  {
   "cell_type": "code",
   "execution_count": 58,
   "id": "db306db9",
   "metadata": {},
   "outputs": [
    {
     "name": "stdout",
     "output_type": "stream",
     "text": [
      "Monte Carlo integration result: 1.0005049330273208\n",
      "Mean: 0.9999613826732671\n",
      "Variance: 6.586769535305426e-06\n"
     ]
    },
    {
     "data": {
      "image/png": "[encoded data removed]",
      "text/plain": [
       "<Figure size 432x288 with 1 Axes>"
      ]
     },
     "metadata": {
      "needs_background": "light"
     },
     "output_type": "display_data"
    }
   ],
   "source": [
    "# 4. Monte Carlo with importance sampling and g(x)=4x^3 as weighting function\n",
    "\n",
    "import random\n",
    "\n",
    "def f(x):\n",
    "    return 3*x**2\n",
    "\n",
    "def g(x):\n",
    "    return 4*x**3\n",
    "\n",
    "# Number of samples to use\n",
    "N = 20000\n",
    "\n",
    "# Define the range of integration\n",
    "a = 0\n",
    "b = 1\n",
    "integral_array = []\n",
    "\n",
    "for j in range(1000):\n",
    "    # Generate N samples from the importance sampling distribution\n",
    "    samples = [((random.uniform(0, 1))**(1/4)) for i in range(N)]\n",
    "\n",
    "    # Calculate the estimate of the integral using the samples\n",
    "    integral = sum([f(sample)/g(sample) for sample in samples])/N*(b-a)\n",
    "    integral_array.append(integral)\n",
    "    \n",
    "print(\"Monte Carlo integration result:\", integral)\n",
    "plt.hist(integral_array, density=True, bins=30)  # density=False would make counts\n",
    "plt.ylabel('Probability')\n",
    "plt.xlabel('Data')\n",
    "print(\"Mean:\", np.mean(integral_array))\n",
    "print(\"Variance:\", np.var(integral_array))"
   ]
  },
  {
   "cell_type": "markdown",
   "id": "fed28857",
   "metadata": {},
   "source": [
    "The variance is ca. 1.25*10^-5 when using 10000 samples and 6.6*10^-6 when using 20000 samples. As we doubled the number of samples the variance halved. The relationship is thus var α 1/N."
   ]
  },
  {
   "cell_type": "code",
   "execution_count": 57,
   "id": "55f23f5b",
   "metadata": {},
   "outputs": [
    {
     "name": "stdout",
     "output_type": "stream",
     "text": [
      "Monte Carlo integration result: 0.9976242596981478\n",
      "Mean: 0.9999121630101135\n",
      "Variance: 6.2917163692760275e-06\n"
     ]
    },
    {
     "data": {
      "image/png": "[encoded data removed]",
      "text/plain": [
       "<Figure size 432x288 with 1 Axes>"
      ]
     },
     "metadata": {
      "needs_background": "light"
     },
     "output_type": "display_data"
    }
   ],
   "source": [
    "# 5. Monte Carlo with importance sampling and g(x)=2x as weighting function \n",
    "\n",
    "import random\n",
    "\n",
    "def f(x):\n",
    "    return 3*x**2\n",
    "\n",
    "def g(x):\n",
    "    return 2*x\n",
    "\n",
    "# Number of samples to use\n",
    "N = 20000\n",
    "\n",
    "# Define the range of integration\n",
    "a = 0\n",
    "b = 1\n",
    "integral_array = []\n",
    "\n",
    "for j in range(1000):\n",
    "    # Generate N samples from the importance sampling distribution\n",
    "    integral = 0\n",
    "    samples = []\n",
    "    for i in range(N):\n",
    "        random_no = random.uniform(0, 1)**(1/2) # Where does the 1/2 exponent come from?\n",
    "        samples.append(random_no)\n",
    "\n",
    "    # Calculate the estimate of the integral using the samples\n",
    "    for k in samples:\n",
    "        integral += f(k)/g(k)/N*(b-a) \n",
    "    integral_array.append(integral)\n",
    "    \n",
    "print(\"Monte Carlo integration result:\", integral)\n",
    "plt.hist(integral_array, density=True, bins=30)  # density=False would make counts\n",
    "plt.ylabel('Probability')\n",
    "plt.xlabel('Data')\n",
    "print(\"Mean:\", np.mean(integral_array))\n",
    "print(\"Variance:\", np.var(integral_array))"
   ]
  },
  {
   "cell_type": "markdown",
   "id": "067dcd56",
   "metadata": {},
   "source": [
    "The variance is around 1.25*10^-5 when using 10000 samples and ca. 6.3*10^-6 when using 2000 samples. As we doubled the number of samples the variance halved. The relationship is thus var α 1/N."
   ]
  },
  {
   "cell_type": "markdown",
   "id": "22a79b30",
   "metadata": {},
   "source": [
    "b) Better weighting function\n",
    "In general, the optimal weighting function is one that approximates the integrand well and has a simple form that allows for efficient sampling. Ideally, the weighting function should have a similar shape to the integrand, and should be non-negative over the entire domain of integration.\n",
    "The weighting function g(x) = 2x is the best possible one since it samples more often in the domain where the integrand value is highest. On the other hand, a weighting funtion of the form 4x^3 also gives good results as seen by the fact that its variance is very similar to that obtained with g(x)=2x."
   ]
  }
 ],
 "metadata": {
  "kernelspec": {
   "display_name": "Python 3",
   "language": "python",
   "name": "python3"
  },
  "language_info": {
   "codemirror_mode": {
    "name": "ipython",
    "version": 3
   },
   "file_extension": ".py",
   "mimetype": "text/x-python",
   "name": "python",
   "nbconvert_exporter": "python",
   "pygments_lexer": "ipython3",
   "version": "3.8.8"
  }
 },
 "nbformat": 4,
 "nbformat_minor": 5
}
