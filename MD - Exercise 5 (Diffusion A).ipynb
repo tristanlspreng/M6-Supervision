{
 "cells": [
  {
   "cell_type": "raw",
   "id": "feaa3afd",
   "metadata": {},
   "source": [
    "Exercise 5.1\n",
    "- calculate mean square displacement (MSD) averaged over all particles for all timesteps\n",
    "- plot MSD against time\n",
    "- calculate Diffustion coefficient from mean square displacement "
   ]
  },
  {
   "cell_type": "code",
   "execution_count": 58,
   "id": "91f9d876",
   "metadata": {},
   "outputs": [],
   "source": [
    "import matplotlib.pyplot as plt\n",
    "import numpy as np\n",
    "import pandas\n",
    "from scipy.stats import linregress"
   ]
  },
  {
   "cell_type": "code",
   "execution_count": 2,
   "id": "526163a0",
   "metadata": {},
   "outputs": [
    {
     "name": "stdout",
     "output_type": "stream",
     "text": [
      "Volume of simulation box is 8.182693580260386e-26 m^3\n",
      "The coefficent Tau is 1.7896506380436378e-22\n"
     ]
    }
   ],
   "source": [
    "# Constants \n",
    "lower = 1.8292885330785609e-09\n",
    "upper = 6.1707114669130533e-09\n",
    "volume = (upper - lower) ** 3\n",
    "print(\"Volume of simulation box is\", volume, \"m^3\")\n",
    "\n",
    "mass = 6.63e-26 # set mass of interacting potentials, take hydrogen gas for example (in kg)\n",
    "epsilon = 0.24 # in kcal/mol\n",
    "sigma = 3.405e-10 # in m\n",
    "tau = np.sqrt(mass*sigma**2/epsilon)\n",
    "print(\"The coefficent Tau is\", tau)"
   ]
  },
  {
   "cell_type": "code",
   "execution_count": 3,
   "id": "ca29c53b",
   "metadata": {},
   "outputs": [
    {
     "name": "stdout",
     "output_type": "stream",
     "text": [
      "100000\n"
     ]
    }
   ],
   "source": [
    "# generate list with all line numbers that will be read in \n",
    "header = 9\n",
    "atoms_no = 2000\n",
    "timesteps = 50\n",
    "size = 100000\n",
    "\n",
    "\n",
    "line_numbers = []\n",
    "for i in range(size + header*timesteps):\n",
    "    if (i+1) % (atoms_no + header) <= header and (i+1) % (atoms_no + header) != 0:\n",
    "        pass\n",
    "    else:\n",
    "        line_numbers.append(i)\n",
    "        \n",
    "print(len(line_numbers))"
   ]
  },
  {
   "cell_type": "code",
   "execution_count": 4,
   "id": "63c2e67b",
   "metadata": {},
   "outputs": [],
   "source": [
    "# Read in Data Files\n",
    "\n",
    "with open(r\"diffusionA.xyz\", 'r') as file:\n",
    "    lines = []\n",
    "    for i, line in enumerate(file):\n",
    "        if i in line_numbers:\n",
    "            lines.append(line.strip())\n",
    "        else:\n",
    "            pass"
   ]
  },
  {
   "cell_type": "code",
   "execution_count": 5,
   "id": "331c607f",
   "metadata": {},
   "outputs": [
    {
     "name": "stdout",
     "output_type": "stream",
     "text": [
      "[1329. 1860.  191. ...  187.  903. 1730.]\n",
      "100000\n",
      "[1329 1860  191 ...  187  903 1730]\n"
     ]
    }
   ],
   "source": [
    "input_array = np.array(lines)\n",
    "new_input = np.array([np.array([float(i.strip()) for i in j.split(' ') if i]) for j in input_array])\n",
    "array = np.transpose(new_input)\n",
    "\n",
    "item = array[0]\n",
    "atom_float = array[1]\n",
    "atom = atom_float.astype(int)\n",
    "identity = array[2]\n",
    "\n",
    "x_disordered = 10e-10 * array[4] # x-position inside box (in m)\n",
    "y_disordered = 10e-10 * array[5] \n",
    "z_disordered = 10e-10 * array[6]"
   ]
  },
  {
   "cell_type": "code",
   "execution_count": 37,
   "id": "d1ce604e",
   "metadata": {},
   "outputs": [],
   "source": [
    "# Make arrays with the 50 positions of the individual atoms \n",
    "\n",
    "atoms = []\n",
    "x = []\n",
    "y = []\n",
    "z = []\n",
    "\n",
    "\n",
    "for i in range(1, atoms_no +1):\n",
    "    for j in enumerate(atom):\n",
    "        if j[1] == i:\n",
    "            atoms.append(atom[j[0]])\n",
    "            x.append(x_disordered[j[0]])\n",
    "            y.append(y_disordered[j[0]])\n",
    "            z.append(z_disordered[j[0]])  \n",
    "        else:\n",
    "            pass"
   ]
  },
  {
   "cell_type": "code",
   "execution_count": 44,
   "id": "0b3921c6",
   "metadata": {},
   "outputs": [],
   "source": [
    "def distance(x, y, z):\n",
    "    return np.sqrt((x[j])**2 + (y[j])**2 + (z[j])**2)"
   ]
  },
  {
   "cell_type": "code",
   "execution_count": 54,
   "id": "711035e4",
   "metadata": {},
   "outputs": [
    {
     "name": "stdout",
     "output_type": "stream",
     "text": [
      "98000\n",
      "[5.669135696833989e-18, 1.1121492302979339e-17, 1.600511833625311e-17, 2.240308219628311e-17, 2.8538957554339155e-17, 3.285561989808642e-17, 3.8659882709050653e-17, 4.391409195401729e-17, 4.8611502856854373e-17, 5.2925459563216347e-17, 5.927812663011468e-17, 6.553940964299218e-17, 6.980038635261991e-17, 7.544606352772232e-17, 7.841980608077743e-17, 8.272450632010442e-17, 8.632303171082961e-17, 8.930587542248669e-17, 9.322435810417257e-17, 9.585362953640053e-17, 1.0117359710489516e-16, 1.0629469538480169e-16, 1.1062027140267195e-16, 1.16752751786745e-16, 1.228208141691381e-16, 1.2897923468252083e-16, 1.3528566829069697e-16, 1.421258869840726e-16, 1.472552460670586e-16, 1.54307665016263e-16, 1.6008056637186388e-16, 1.664714282382436e-16, 1.7229930253926418e-16, 1.772877533768267e-16, 1.8046993288961787e-16, 1.8542123121777147e-16, 1.908402788167223e-16, 1.9619109981245634e-16, 1.9930998861619532e-16, 2.0455781925118743e-16, 2.0803465517736532e-16, 2.1381866463674011e-16, 2.1960670078133353e-16, 2.268122854628841e-16, 2.3348626285818294e-16, 2.3996805764634133e-16, 2.4516369968977024e-16, 2.538186066453244e-16, 2.585817493599476e-16]\n"
     ]
    }
   ],
   "source": [
    "# Mean square displacement (compute for each timestep)\n",
    "\n",
    "distances_0 = []\n",
    "square_distances = []\n",
    "MSD = []\n",
    "\n",
    "# Distances at t=0 for all 2000 atoms \n",
    "for j in range(0, 100000, 50): \n",
    "    distances_0.append(distance(x, y, z))\n",
    "\n",
    "# square displacements relative to t=0 for all atoms \n",
    "for j in range(0, 100000):\n",
    "    atom_iteration = int(j / 50)\n",
    "    if j % 50 == 0:\n",
    "        pass\n",
    "    else:\n",
    "        distance_timestep = (distance(x, y, z) - distances_0[atom_iteration]) ** 2\n",
    "        square_distances.append(distance_timestep)\n",
    "    \n",
    "# MSD for the 49 timesteps after t=0\n",
    "for i in range(0, 49):\n",
    "    MSD_t = 0\n",
    "    for j in range(0+i, len(square_distances), 49):\n",
    "        MSD_t += 1/2000 * square_distances[j]\n",
    "    MSD.append(MSD_t)\n",
    "\n",
    "    \n",
    "    \n",
    "#for i in range(1, timesteps):\n",
    "#    for j in range(1, atoms_no+1):\n",
    "#    MSD.append(distance(x, y, z)) \n",
    "\n",
    "print(len(square_distances))\n",
    "print(MSD)"
   ]
  },
  {
   "cell_type": "code",
   "execution_count": 66,
   "id": "06d632d1",
   "metadata": {},
   "outputs": [
    {
     "data": {
      "text/plain": [
       "Text(0, 0.5, 'MSD [m^2]')"
      ]
     },
     "execution_count": 66,
     "metadata": {},
     "output_type": "execute_result"
    },
    {
     "data": {
      "image/png": "[encoded data removed]",
      "text/plain": [
       "<Figure size 432x288 with 1 Axes>"
      ]
     },
     "metadata": {
      "needs_background": "light"
     },
     "output_type": "display_data"
    }
   ],
   "source": [
    "timestep = 10000 * 2 * 10e-15 # duration of timestep in seconds \n",
    "x = timestep * np.arange(49)\n",
    "plt.plot(x, MSD)\n",
    "plt.xlabel('time [s]')\n",
    "plt.ylabel('MSD [m^2]')"
   ]
  },
  {
   "cell_type": "code",
   "execution_count": 67,
   "id": "f8e9cee4",
   "metadata": {},
   "outputs": [
    {
     "data": {
      "text/plain": [
       "LinregressResult(slope=2.5757416670208567e-08, intercept=4.8226744865302485e-18, rvalue=0.9988660932220587, pvalue=8.223156549261715e-64, stderr=1.7907156517686678e-10, intercept_stderr=9.97671315674593e-19)"
      ]
     },
     "execution_count": 67,
     "metadata": {},
     "output_type": "execute_result"
    }
   ],
   "source": [
    "# Calculate diffusion coefficient: MSD = 2nDt\n",
    "# n - number of dimensions: n=3\n",
    "# Thus MSD = 6Dt -> D = MSD/(6t) = slope / 6\n",
    "\n",
    "linregress(x, MSD)\n"
   ]
  },
  {
   "cell_type": "code",
   "execution_count": 69,
   "id": "9cf0d48f",
   "metadata": {
    "scrolled": true
   },
   "outputs": [
    {
     "name": "stdout",
     "output_type": "stream",
     "text": [
      "The Diffusion coefficient is 4.292902778368094e-09 m^2/s.\n",
      "The Diffusion coefficient in reduced units is 6.626513394930376e-12 Angstrom/Tau.\n"
     ]
    }
   ],
   "source": [
    "D = 2.5757416670208567e-08 / 6\n",
    "print('The Diffusion coefficient is', D, 'm^2/s.')\n",
    "D_reduced_units = D / (sigma**2) * tau\n",
    "print('The Diffusion coefficient in reduced units is', D_reduced_units, 'Angstrom/Tau.')"
   ]
  },
  {
   "cell_type": "markdown",
   "id": "f2eb34c0",
   "metadata": {},
   "source": [
    "The Diffusion coefficient is in the range 10^-10 to 10^-9 m^2/s which suggests that the particles of interest are diffusing in an aqueous solution. "
   ]
  }
 ],
 "metadata": {
  "kernelspec": {
   "display_name": "Python 3",
   "language": "python",
   "name": "python3"
  },
  "language_info": {
   "codemirror_mode": {
    "name": "ipython",
    "version": 3
   },
   "file_extension": ".py",
   "mimetype": "text/x-python",
   "name": "python",
   "nbconvert_exporter": "python",
   "pygments_lexer": "ipython3",
   "version": "3.8.8"
  }
 },
 "nbformat": 4,
 "nbformat_minor": 5
}
