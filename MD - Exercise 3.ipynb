{
 "cells": [
  {
   "cell_type": "markdown",
   "id": "1af94509",
   "metadata": {},
   "source": [
    "Exercise 1"
   ]
  },
  {
   "cell_type": "code",
   "execution_count": 30,
   "id": "007fe6ec",
   "metadata": {},
   "outputs": [],
   "source": [
    "import matplotlib.pyplot as plt\n",
    "import numpy as np\n",
    "import pandas"
   ]
  },
  {
   "cell_type": "code",
   "execution_count": 58,
   "id": "5748d63c",
   "metadata": {},
   "outputs": [],
   "source": [
    "# Constants\n",
    "sigma = 3.405 # in Angstroms\n",
    "epsilon = 119.87 # in Kelvins (divided by Boltzmann's constant)\n",
    "\n",
    "box_min = -7.9523840713484417e-01 # lower extent of box (in Angstroms)\n",
    "box_max = 5.1656065646189937e+01 # upper extent of box (in Angstroms)\n",
    "\n",
    "cut_off = 3 * sigma  # maximum distance for pair-wise interaction\n",
    "size = 4000"
   ]
  },
  {
   "cell_type": "markdown",
   "id": "2a42919c",
   "metadata": {},
   "source": [
    "The dimensions of the box have no specified units in the input code. From the fact that there are ca. 16 atoms per side of the cube, one can infer that the unit is angstroms (resulting in an atomic radius of 1.6 Angstroms which is a realistic value."
   ]
  },
  {
   "cell_type": "code",
   "execution_count": 32,
   "id": "97fe258e",
   "metadata": {},
   "outputs": [
    {
     "name": "stdout",
     "output_type": "stream",
     "text": [
      "      ITEM:  ATOMS  id  mol      type         q        xs  ys  zs\n",
      "0      1004   1004   1    0  0.102871  0.069589  0.076414 NaN NaN\n",
      "1      1154   1154   1    0  0.056106  0.072340  0.020769 NaN NaN\n",
      "2      2650   2650   2    0  0.100080  0.026585  0.020079 NaN NaN\n",
      "3      3333   3333   2    0  0.057326  0.018064  0.072037 NaN NaN\n",
      "4      2239   2239   2    0  0.097945  0.019903  0.123387 NaN NaN\n",
      "...     ...    ...  ..  ...       ...       ...       ...  ..  ..\n",
      "3995   1369   1369   1    0  0.905949  0.921946  0.829542 NaN NaN\n",
      "3996   1159   1159   1    0  0.502664  0.919078  0.918626 NaN NaN\n",
      "3997   2812   2812   2    0  0.505729  0.971735  0.878737 NaN NaN\n",
      "3998   1780   1780   1    0  0.505528  0.768727  0.980025 NaN NaN\n",
      "3999    863    863   1    0  0.999681  0.917212  0.830497 NaN NaN\n",
      "\n",
      "[4000 rows x 9 columns]\n"
     ]
    }
   ],
   "source": [
    "# importing the CSV file \n",
    "filename = 'conf.xyz'\n",
    "data = pandas.read_csv(filename, delimiter=r\"\\s+\",header=8)\n",
    "print(data)"
   ]
  },
  {
   "cell_type": "code",
   "execution_count": 33,
   "id": "d02ccf9e",
   "metadata": {},
   "outputs": [],
   "source": [
    "atom = np.array(data['ATOMS'])\n",
    "identity = np.array(data['id'])\n",
    "# mol = np.array(data['mol'])\n",
    "x = (box_max-box_min) * np.array(data['type']) + box_min\n",
    "y = (box_max-box_min) * np.array(data['q']) + box_min\n",
    "z = (box_max-box_min) * np.array(data['xs']) + box_min\n",
    "\n",
    "# PLOT\n",
    "#plt.figure(dpi=1200)\n",
    "#plt.scatter(atom, y)"
   ]
  },
  {
   "cell_type": "code",
   "execution_count": 35,
   "id": "d48c9d73",
   "metadata": {},
   "outputs": [],
   "source": [
    "# Functions \n",
    "\n",
    "def distance(x, y, z):\n",
    "    return np.sqrt((x[i]-x[j])**2 + (y[i]-y[j])**2 + (z[i]-z[j])**2)\n",
    "\n"
   ]
  },
  {
   "cell_type": "code",
   "execution_count": 59,
   "id": "143a0070",
   "metadata": {},
   "outputs": [],
   "source": [
    "# Compute Pair-wise interaction \n",
    "\n",
    "E = np.zeros(size)\n",
    "for i in range(size): \n",
    "    for j in range(size): \n",
    "        if distance(x, y, z) < 10e-5:\n",
    "            pass \n",
    "        elif distance(x, y, z) <= cut_off:\n",
    "            E[i] += 4 * epsilon * ((sigma / distance(x, y, z)) ** 12 - (sigma / distance(x, y, z)) ** 6 )    \n",
    "        else:\n",
    "            pass"
   ]
  },
  {
   "cell_type": "code",
   "execution_count": 63,
   "id": "6e5fa9b6",
   "metadata": {},
   "outputs": [
    {
     "name": "stdout",
     "output_type": "stream",
     "text": [
      "[-1570.10401827  -791.10082425  -478.12219769 ... -1050.42324338\n",
      " -1159.63076117  -724.97648498]\n",
      "The total potential energy of the system is:  -3000864.997378607 k_b K\n"
     ]
    }
   ],
   "source": [
    "total_E = 0.5 * np.sum(E)\n",
    "print(E)\n",
    "print(\"The total potential energy of the system is: \", total_E, \"k_b K\")"
   ]
  },
  {
   "cell_type": "markdown",
   "id": "99284c9c",
   "metadata": {},
   "source": [
    "Exercise 2"
   ]
  },
  {
   "cell_type": "code",
   "execution_count": 65,
   "id": "13d26f41",
   "metadata": {},
   "outputs": [],
   "source": [
    "# Constants\n",
    "sigma = 3.405 # in Angstroms\n",
    "epsilon = 119.87 # in Kelvins (divided by Boltzmann's constant)\n",
    "lambda_a = 49\n",
    "lambda_r = 50\n",
    "\n",
    "cut_off = 1.5 * sigma  # maximum distance for pair-wise interaction"
   ]
  },
  {
   "cell_type": "code",
   "execution_count": 66,
   "id": "ade51cee",
   "metadata": {},
   "outputs": [],
   "source": [
    "def distance(x, y, z):\n",
    "    return np.sqrt((x[i]-x[j])**2 + (y[i]-y[j])**2 + (z[i]-z[j])**2)\n",
    "\n",
    "def hard_sphere(distance):\n",
    "    return lambda_r * (lambda_r/lambda_a) ** lambda_a * epsilon * ((sigma/distance) ** lambda_r - (sigma/distance) ** lambda_a) + epsilon\n",
    "    "
   ]
  },
  {
   "cell_type": "code",
   "execution_count": 68,
   "id": "5c4cacbf",
   "metadata": {},
   "outputs": [],
   "source": [
    "# Compute Pair-wise interaction \n",
    "\n",
    "E = np.zeros(size)\n",
    "for i in range(size): \n",
    "    for j in range(size): \n",
    "        if distance(x, y, z) < 10e-5:\n",
    "            pass \n",
    "        elif distance(x, y, z) >= (lambda_r/lambda_a)*sigma:\n",
    "            pass\n",
    "        elif distance(x, y, z) < (lambda_r/lambda_a)*sigma:\n",
    "            \n",
    "            E[i] += hard_sphere(distance(x, y, z))"
   ]
  },
  {
   "cell_type": "code",
   "execution_count": 69,
   "id": "e2c44a1a",
   "metadata": {},
   "outputs": [
    {
     "name": "stdout",
     "output_type": "stream",
     "text": [
      "[  50.43422403 1239.0853147  1305.58996539 ...   29.49425264  119.53721012\n",
      "    0.        ]\n",
      "The total potential energy of the system is:  190546.04570444173 k_b K\n"
     ]
    }
   ],
   "source": [
    "total_E = 0.5 * np.sum(E) # multiply by 0.5 to avoid double-counting\n",
    "print(E)\n",
    "print(\"The total potential energy of the system is: \", total_E, \"k_b K\")"
   ]
  },
  {
   "cell_type": "markdown",
   "id": "315692bf",
   "metadata": {},
   "source": [
    "Exercise 3"
   ]
  },
  {
   "cell_type": "code",
   "execution_count": 74,
   "id": "be2974c7",
   "metadata": {},
   "outputs": [],
   "source": [
    "# Constants\n",
    "\n",
    "kappa = 5 # in Angstroms\n",
    "cut_off_Yukawa = 3.5 * sigma "
   ]
  },
  {
   "cell_type": "code",
   "execution_count": 75,
   "id": "593afd49",
   "metadata": {},
   "outputs": [],
   "source": [
    "def distance(x, y, z):\n",
    "    return np.sqrt((x[i]-x[j])**2 + (y[i]-y[j])**2 + (z[i]-z[j])**2)\n",
    "\n",
    "def E_Yukawa(distance):\n",
    "    return epsilon * sigma / distance * np.exp(-kappa*(distance - sigma))\n",
    "    "
   ]
  },
  {
   "cell_type": "code",
   "execution_count": 76,
   "id": "c27473d6",
   "metadata": {},
   "outputs": [],
   "source": [
    "# Compute Pair-wise interaction \n",
    "\n",
    "E = np.zeros(size)\n",
    "\n",
    "# Hard-Sphere potential \n",
    "for i in range(size): \n",
    "    for j in range(size): \n",
    "        if i == j:\n",
    "            pass \n",
    "        elif distance(x, y, z) < sigma: \n",
    "            E[i] += 10e20 # analogous to infinity \n",
    "        else: \n",
    "            pass\n",
    "\n",
    "# Yukawa potential\n",
    "for i in range(size): \n",
    "    for j in range(size):         \n",
    "        if i == j:\n",
    "            pass \n",
    "        elif distance(x, y, z) > cut_off_Yukawa:\n",
    "            pass\n",
    "        elif identity[i] == identity[j]:\n",
    "            E[i] += E_Yukawa(distance(x, y, z))\n",
    "        elif identity[i] != identity[j]: \n",
    "            E[i] -= E_Yukawa(distance(x, y, z))\n",
    "        else:\n",
    "            pass\n",
    "        \n",
    "        "
   ]
  },
  {
   "cell_type": "code",
   "execution_count": 77,
   "id": "39955e0e",
   "metadata": {},
   "outputs": [
    {
     "name": "stdout",
     "output_type": "stream",
     "text": [
      "[-1.63933652e+02  1.00000000e+21  1.00000000e+21 ... -2.66286085e+02\n",
      "  2.51984407e+01 -3.25578704e+01]\n",
      "The total potential energy of the system is:  5.04e+23 k_b K\n"
     ]
    }
   ],
   "source": [
    "total_E = 0.5 * np.sum(E) # multiply by 0.5 to avoid double-counting\n",
    "print(E)\n",
    "print(\"The total potential energy of the system is: \", total_E, \"k_b K\")"
   ]
  },
  {
   "cell_type": "markdown",
   "id": "5af7b400",
   "metadata": {},
   "source": [
    "Comment: The computed energy is very large since ca. 500 of the particles overlap."
   ]
  },
  {
   "cell_type": "markdown",
   "id": "ad4e014f",
   "metadata": {},
   "source": [
    "Exercise 3.2"
   ]
  },
  {
   "cell_type": "code",
   "execution_count": 95,
   "id": "4ae6131e",
   "metadata": {},
   "outputs": [],
   "source": [
    "from scipy.interpolate import interp1d as interp\n",
    "import math"
   ]
  },
  {
   "cell_type": "code",
   "execution_count": 118,
   "id": "fe0107c2",
   "metadata": {},
   "outputs": [],
   "source": [
    "# Constants \n",
    "T = 179.81 # in Kelvins\n",
    "mass = 6.63 * 10e-26 # particle mass in kg\n",
    "kB = 1.38e-23 \n",
    "v = np.arange(0,4000,1)"
   ]
  },
  {
   "cell_type": "markdown",
   "id": "f922ed56",
   "metadata": {},
   "source": [
    "The Boltzmann speed distribution can be used instead of of velocity distribution since the velocity vectors are equally distributed over all angles. The standard Boltzmann velocity distribution needs to be integrated to find the cumulative distribution functin for the speeds so that random numbers with Boltzmann coefficients can be generated."
   ]
  },
  {
   "cell_type": "code",
   "execution_count": 123,
   "id": "09b1c0b7",
   "metadata": {},
   "outputs": [],
   "source": [
    "# Boltzmann distribution - speed\n",
    "def MB_speed(v,m,T):\n",
    "    return (m/(2*np.pi*kB*T))**1.5 * 4*np.pi * v**2 * np.exp(-m*v**2/(2*kB*T))\n",
    "\n",
    "# Cumulative Boltzmann distribution - speed\n",
    "def MB_CDF(v,m,T):\n",
    "    a = np.sqrt(kB*T/m)\n",
    "    return erf(v/(np.sqrt(2)*a)) - np.sqrt(2/np.pi)* v* np.exp(-v**2/(2*a**2))/a\n"
   ]
  },
  {
   "cell_type": "code",
   "execution_count": 112,
   "id": "035687aa",
   "metadata": {},
   "outputs": [],
   "source": [
    "# create CDF\n",
    "vs = np.arange(0,2500,0.1)\n",
    "cdf = MB_CDF(vs,mass,T) # essentially y = f(x)\n",
    "\n",
    "#create interpolation function to CDF\n",
    "inv_cdf = interp(cdf,vs) # essentially what we have done is made x = g(y) from y = f(x)\n",
    "                         # this can now be used as a function which is \n",
    "                         # called in the same way as normal routines"
   ]
  },
  {
   "cell_type": "code",
   "execution_count": 116,
   "id": "6bd0c727",
   "metadata": {},
   "outputs": [],
   "source": [
    "def generate_velocities(n):\n",
    "    rand_nums = np.random.random(n)\n",
    "    speeds = inv_cdf(rand_nums)\n",
    "    \n",
    "    # spherical polar coords - generate random angle for velocity vector, uniformly distributed over the surface of a sphere\n",
    "    # see http://mathworld.wolfram.com/SpherePointPicking.html for more info (note theta and phi are the other way around!)\n",
    "    theta = np.arccos(np.random.uniform(-1,1,n))\n",
    "    phi = np.random.uniform(0,2*np.pi,n)\n",
    "    \n",
    "    # convert to cartesian units\n",
    "    vx = speeds * np.sin(theta) * np.cos(phi) \n",
    "    vy = speeds * np.sin(theta) * np.sin(phi)\n",
    "    vz = speeds * np.cos(theta)\n",
    "    \n",
    "    return speeds, vx, vy, vz"
   ]
  },
  {
   "cell_type": "code",
   "execution_count": 130,
   "id": "b3e83e2f",
   "metadata": {},
   "outputs": [
    {
     "name": "stdout",
     "output_type": "stream",
     "text": [
      "[213.49953396 255.68228456 302.17994516 ... 224.10029608 409.59252002\n",
      " 154.72275806]\n"
     ]
    },
    {
     "data": {
      "image/png": "[encoded data removed]",
      "text/plain": [
       "<Figure size 432x288 with 1 Axes>"
      ]
     },
     "metadata": {
      "needs_background": "light"
     },
     "output_type": "display_data"
    }
   ],
   "source": [
    "spd, vx, vy, vz = generate_velocities(4000)\n",
    "\n",
    "fig = plt.figure()\n",
    "ax = fig.add_subplot(111)\n",
    "\n",
    "#generate histogram of velocities\n",
    "ax.hist(spd,bins=50,fc='b',alpha=0.4,lw=0.2)\n",
    "\n",
    "#compare this histogram to f(v) - this is MB_speed that we wrote earlier\n",
    "vs = np.arange(0,4000)\n",
    "\n",
    "fv = MB_speed(velocities,mass,temp)\n",
    "ax.plot(velocities,fv,'k',lw=2)\n",
    "\n",
    "ax.set_xlabel('Speed (m/s)')\n",
    "ax.set_ylabel('PDF')\n",
    "     \n",
    "print(spd) # spd contains velocities of all 4000 atoms in the initial configuration"
   ]
  },
  {
   "cell_type": "code",
   "execution_count": null,
   "id": "8f0fea4d",
   "metadata": {},
   "outputs": [],
   "source": []
  }
 ],
 "metadata": {
  "kernelspec": {
   "display_name": "Python 3",
   "language": "python",
   "name": "python3"
  },
  "language_info": {
   "codemirror_mode": {
    "name": "ipython",
    "version": 3
   },
   "file_extension": ".py",
   "mimetype": "text/x-python",
   "name": "python",
   "nbconvert_exporter": "python",
   "pygments_lexer": "ipython3",
   "version": "3.8.8"
  }
 },
 "nbformat": 4,
 "nbformat_minor": 5
}
