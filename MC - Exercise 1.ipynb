{
 "cells": [
  {
   "cell_type": "code",
   "execution_count": 3,
   "id": "4bfd8060",
   "metadata": {},
   "outputs": [],
   "source": [
    "import numpy as np"
   ]
  },
  {
   "cell_type": "code",
   "execution_count": 155,
   "id": "f54d7518",
   "metadata": {
    "scrolled": true
   },
   "outputs": [
    {
     "name": "stdout",
     "output_type": "stream",
     "text": [
      "MC expectation value estimate: 0.5869\n",
      "Theoretical expectation value estimate: 0.5819767068693265\n",
      "Percentage error: -0.008459605122613557 %\n"
     ]
    }
   ],
   "source": [
    "# MC-1 part d)\n",
    "\n",
    "steps = 10000\n",
    "beta = 1\n",
    "energy = 1\n",
    "\n",
    "def U(x):\n",
    "    return x * energy\n",
    "\n",
    "# 1. Choose random n_j\n",
    "\n",
    "n_j = 1\n",
    "\n",
    "sum_n_j = 0\n",
    "\n",
    "# 2. Increase or decrease n_j by 1 (random)\n",
    "\n",
    "for i in range(steps):\n",
    "#    print(\"Step\",i)\n",
    "    rand = np.random.rand()\n",
    "    if rand > 0.5:\n",
    "        trial_n_j = n_j + 1\n",
    "    else:\n",
    "        trial_n_j = n_j - 1\n",
    "    if trial_n_j < 0:\n",
    "        trial_n_j = 0\n",
    "    else:\n",
    "        pass\n",
    "#    print(\"Trial\",trial_n_j)\n",
    "# 3. Accept the trial move with probability acc(o → n)=min(1,exp[−β(U(n)−U(o))]\n",
    "    \n",
    "    DeltaU = U(trial_n_j) - U(n_j)\n",
    "#    print(\"DeltaU\", DeltaU)\n",
    "    acc_prob = min(1, np.exp(-beta*DeltaU))\n",
    "#    print(\"Acceptance probability\", acc_prob)\n",
    "    rand = np.random.rand()\n",
    "    if rand < acc_prob:\n",
    "        n_j = trial_n_j     \n",
    "    else:\n",
    "        pass\n",
    "    sum_n_j += n_j\n",
    "#    print(n_j)\n",
    "    \n",
    "# 4. Compute average \n",
    "\n",
    "expectation_n_j = sum_n_j / steps\n",
    "theoretical_n_j = 1 / (np.exp(beta*energy) - 1)\n",
    "difference_n_j = theoretical_n_j - expectation_n_j\n",
    "print(\"MC expectation value estimate:\",expectation_n_j)\n",
    "print(\"Theoretical expectation value estimate:\",theoretical_n_j)\n",
    "print(\"Percentage error:\",difference_n_j/theoretical_n_j,\"%\")"
   ]
  },
  {
   "cell_type": "code",
   "execution_count": 80,
   "id": "cabb11df",
   "metadata": {},
   "outputs": [],
   "source": [
    "# Part e)\n",
    "\n",
    "def MC_simulation(steps, energy, beta):\n",
    "    n_j = 1\n",
    "    sum_n_j = 0\n",
    "    for i in range(steps):\n",
    "        rand = np.random.rand()\n",
    "        if rand > 0.5:\n",
    "            trial_n_j = n_j + 1\n",
    "        else:\n",
    "            trial_n_j = n_j - 1\n",
    "        if trial_n_j < 0:\n",
    "            trial_n_j = 0\n",
    "        else:\n",
    "            pass\n",
    "        \n",
    "        DeltaU = U(trial_n_j) - U(n_j)\n",
    "        acc_prob = min(1, np.exp(-beta*DeltaU))\n",
    "        rand = np.random.rand()\n",
    "        if rand < acc_prob:\n",
    "            n_j = trial_n_j     \n",
    "        else:\n",
    "            pass\n",
    "        sum_n_j += n_j\n",
    "        \n",
    "    expectation_n_j = sum_n_j / steps\n",
    "    theoretical_n_j = 1 / (np.exp(beta*energy) - 1)\n",
    "\n",
    "    return expectation_n_j, theoretical_n_j       "
   ]
  },
  {
   "cell_type": "code",
   "execution_count": 96,
   "id": "59595262",
   "metadata": {},
   "outputs": [
    {
     "data": {
      "text/plain": [
       "Text(0.5, 0, 'Energy')"
      ]
     },
     "execution_count": 96,
     "metadata": {},
     "output_type": "execute_result"
    },
    {
     "data": {
      "image/png": "[encoded data removed]",
      "text/plain": [
       "<Figure size 576x576 with 2 Axes>"
      ]
     },
     "metadata": {
      "needs_background": "light"
     },
     "output_type": "display_data"
    }
   ],
   "source": [
    "# Average occupation number \n",
    "import matplotlib.pyplot as plt\n",
    "\n",
    "steps = 10000\n",
    "beta = 1\n",
    "\n",
    "expectation = []\n",
    "theoretical = []\n",
    "\n",
    "for i in range(1, 20):\n",
    "    energy = i/10\n",
    "    expectation_n_j, theoretical_n_j = MC_simulation(steps, energy, beta)\n",
    "    expectation.append(expectation_n_j)\n",
    "    theoretical.append(theoretical_n_j)\n",
    "    \n",
    "x = np.arange(0.1, 2.0, 0.1)\n",
    "\n",
    "fig, ax1 = plt.subplots(figsize=(8, 8))\n",
    "ax2 = ax1.twinx()\n",
    "\n",
    "ax1.plot(x, expectation, color=\"blue\", marker=\"o\")\n",
    "ax2.plot(x, theoretical, color = \"red\", marker=\"o\")\n",
    "ax1.set_ylabel(\"MC expectation value\", color=\"blue\")\n",
    "ax2.set_ylabel(\"Theoretical expectation value\", color=\"red\")\n",
    "ax1.set_xlabel(\"Energy\")"
   ]
  },
  {
   "cell_type": "code",
   "execution_count": 257,
   "id": "335ea047",
   "metadata": {},
   "outputs": [
    {
     "name": "stdout",
     "output_type": "stream",
     "text": [
      "MC expectation value estimate: 8.00624487099938e-05\n",
      "Theoretical expectation value estimate: 4.5401991009687765e-05\n",
      "Percentage error: -76.34127255104356 %\n"
     ]
    }
   ],
   "source": [
    "# Part f) \n",
    "# Updating averages only after trial move is accepted\n",
    "\n",
    "steps = 100000\n",
    "beta = 10\n",
    "energy = 1\n",
    "\n",
    "def U(x):\n",
    "    return x * energy\n",
    "\n",
    "# 1. Choose random n_j\n",
    "\n",
    "n_j = 1\n",
    "sum_n_j = 0\n",
    "number_steps = 0\n",
    "\n",
    "# 2. Increase or decrease n_j by 1 (random)\n",
    "\n",
    "for i in range(steps):\n",
    "\n",
    "    rand = np.random.rand()\n",
    "    if rand > 0.5:\n",
    "        trial_n_j = n_j + 1\n",
    "    else:\n",
    "        trial_n_j = n_j - 1\n",
    "    if trial_n_j < 0:\n",
    "        trial_n_j = 0\n",
    "    else:\n",
    "        pass\n",
    "\n",
    "# 3. Accept the trial move with probability acc(o → n)=min(1,exp[−β(U(n)−U(o))]\n",
    "    \n",
    "    DeltaU = U(trial_n_j) - U(n_j)\n",
    "\n",
    "    acc_prob = min(1, np.exp(-beta*DeltaU))\n",
    "\n",
    "    rand = np.random.rand()\n",
    "    if rand < acc_prob:\n",
    "        n_j = trial_n_j     \n",
    "        sum_n_j += n_j\n",
    "        number_steps += 1 #Only average over accepted trial steps \n",
    "    else:\n",
    "        pass\n",
    "\n",
    "\n",
    "    \n",
    "# 4. Compute average \n",
    "\n",
    "expectation_n_j = sum_n_j / number_steps\n",
    "theoretical_n_j = 1 / (np.exp(beta*energy) - 1)\n",
    "difference_n_j = theoretical_n_j - expectation_n_j\n",
    "print(\"MC expectation value estimate:\",expectation_n_j)\n",
    "print(\"Theoretical expectation value estimate:\",theoretical_n_j)\n",
    "print(\"Percentage error:\",difference_n_j/theoretical_n_j*100,\"%\")"
   ]
  },
  {
   "cell_type": "markdown",
   "id": "ea592fa1",
   "metadata": {},
   "source": [
    "f) comment: The error becomes significant when the number of unsuccessful trial moves becomes large (relative to the number of iterations), which is the case when the acceptance probability becomes small. Since the acceptance probability goes as e^-(β(U(n)-U(o)), larger values of β exaggerate the energy difference of the trial state and hence make moves away from the most stable state (in this case n_j) increasingly unlikely. \n",
    "\n",
    "In the simulation, values of β > 10 commonly result in errors of 100%.\n",
    "\n",
    "The error is also increasing for very small values or β (e.g. β=0.001). This is because small β values result in large acceptance probabilities so the trial_n_j is almost always successful. This leads to frequent moves away from the most likely value and exploration of a much larger phase space. It is important to understand that this error is not due to the fact that we only count successful trial_n_j towards the expectation value but is simply a result of undersampling. In that case, the error reduces to smaller values if we increase the number of steps of our Monte-Carlo simulation. "
   ]
  }
 ],
 "metadata": {
  "kernelspec": {
   "display_name": "Python 3",
   "language": "python",
   "name": "python3"
  },
  "language_info": {
   "codemirror_mode": {
    "name": "ipython",
    "version": 3
   },
   "file_extension": ".py",
   "mimetype": "text/x-python",
   "name": "python",
   "nbconvert_exporter": "python",
   "pygments_lexer": "ipython3",
   "version": "3.8.8"
  }
 },
 "nbformat": 4,
 "nbformat_minor": 5
}
