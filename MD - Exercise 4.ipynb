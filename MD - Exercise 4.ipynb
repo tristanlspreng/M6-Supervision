{
 "cells": [
  {
   "cell_type": "markdown",
   "id": "04fad881",
   "metadata": {},
   "source": [
    "Exercise 4.1.1"
   ]
  },
  {
   "cell_type": "code",
   "execution_count": 1,
   "id": "94e71222",
   "metadata": {},
   "outputs": [],
   "source": [
    "import matplotlib.pyplot as plt\n",
    "import numpy as np\n",
    "import pandas"
   ]
  },
  {
   "cell_type": "code",
   "execution_count": 2,
   "id": "e275b0d1",
   "metadata": {},
   "outputs": [
    {
     "name": "stdout",
     "output_type": "stream",
     "text": [
      "6.295834296002753e-26\n",
      "3.405e-10\n"
     ]
    }
   ],
   "source": [
    "# Constants \n",
    "size = 62500\n",
    "lower = 7.774365e-08\n",
    "upper = 8.172183e-08\n",
    "volume = (upper - lower) ** 3\n",
    "print(volume)\n",
    "\n",
    "mass = 3.348e-27 # set mass of interacting potentials, take hydrogen gas for example (in kg)\n",
    "epsilon = 0.24 # in kcal/mol\n",
    "sigma = 3.405e-10 # in m\n",
    "sigma_HS = 3.305e-10 # in m\n",
    "\n",
    "cut_off = 3 * sigma\n",
    "cut_off_HS = 1.5 * sigma\n",
    "l_r = 50\n",
    "l_a = 49\n",
    "print(sigma)"
   ]
  },
  {
   "cell_type": "code",
   "execution_count": 3,
   "id": "0de783cd",
   "metadata": {},
   "outputs": [
    {
     "name": "stdout",
     "output_type": "stream",
     "text": [
      "62500\n"
     ]
    }
   ],
   "source": [
    "# generate list with all line numbers that will be read in \n",
    "header = 9\n",
    "atoms_no = 1250\n",
    "\n",
    "\n",
    "line_numbers = []\n",
    "for i in range(62950):\n",
    "    if (i+1) % (atoms_no + header) <= header and (i+1) % (atoms_no + header) != 0:\n",
    "        pass\n",
    "    else:\n",
    "        line_numbers.append(i)\n",
    "        \n",
    "print(len(line_numbers))"
   ]
  },
  {
   "cell_type": "code",
   "execution_count": 4,
   "id": "3559e32b",
   "metadata": {},
   "outputs": [],
   "source": [
    "# Read in Data Files\n",
    "\n",
    "with open(r\"pres.xyz\", 'r') as file:\n",
    "    lines = []\n",
    "    for i, line in enumerate(file):\n",
    "        if i in line_numbers:\n",
    "            lines.append(line.strip())\n",
    "        else:\n",
    "            pass"
   ]
  },
  {
   "cell_type": "code",
   "execution_count": 5,
   "id": "5d012ce7",
   "metadata": {
    "scrolled": true
   },
   "outputs": [
    {
     "name": "stdout",
     "output_type": "stream",
     "text": [
      "[1.000e+00 2.000e+00 3.000e+00 ... 1.248e+03 1.249e+03 1.250e+03]\n",
      "62500\n"
     ]
    }
   ],
   "source": [
    "input_array = np.array(lines)\n",
    "new_input = np.array([np.array([float(i.strip()) for i in j.split(' ') if i]) for j in input_array])\n",
    "array = np.transpose(new_input)\n",
    "print(array[0]) \n",
    "\n",
    "item = array[0]\n",
    "atom = array[1]\n",
    "identity = array[2]\n",
    "\n",
    "x = (upper-lower) * array[4] + lower # x coordinate of particle inside box (in m)\n",
    "y = (upper-lower) * array[5] + lower\n",
    "z = (upper-lower) * array[6] + lower\n",
    "\n",
    "vx = 10e5 * array[7] # velocity in x-direction inside box (in m/s)\n",
    "vy = 10e5 * array[8]\n",
    "vz = 10e5 * array[9]\n",
    "\n",
    "print(len(item))"
   ]
  },
  {
   "cell_type": "markdown",
   "id": "dc6212bb",
   "metadata": {},
   "source": [
    "Step 1: Calculate term inside thermal average - start with kinetic Energy, then potential energy and finally sum everything"
   ]
  },
  {
   "cell_type": "code",
   "execution_count": 6,
   "id": "72fa7399",
   "metadata": {},
   "outputs": [],
   "source": [
    "def distance(x, y, z):\n",
    "    return np.sqrt((x[i]-x[j])**2 + (y[i]-y[j])**2 + (z[i]-z[j])**2)\n",
    "\n",
    "def vel_squared(vx, vy, vz):\n",
    "    return vx[i]**2 + vy[i]**2 + vz[i]**2\n",
    "\n",
    "def Lennard_Jones(x, y, z):\n",
    "    return (4 * epsilon * ((sigma / distance(x, y, z)) ** 12 - (sigma / distance(x, y, z)) ** 6 ) ) \n",
    "\n",
    "def Pseudo_HS(x,y,z):\n",
    "    if distance(x,y,z) < (l_r/l_a)*sigma_HS:\n",
    "        return l_r * (l_r/l_a) ** l_a * epsilon * ((sigma_HS/distance(x, y, z)) ** l_r - (sigma_HS/distance(x, y, z)) ** l_a) + epsilon\n",
    "    else:\n",
    "        return 0"
   ]
  },
  {
   "cell_type": "code",
   "execution_count": null,
   "id": "3160e378",
   "metadata": {},
   "outputs": [],
   "source": []
  },
  {
   "cell_type": "code",
   "execution_count": 7,
   "id": "faad9794",
   "metadata": {},
   "outputs": [
    {
     "name": "stdout",
     "output_type": "stream",
     "text": [
      "[2.05683192e-21 5.13004091e-21 1.37872173e-20 ... 5.70370209e-21\n",
      " 1.43657794e-21 4.57070008e-21]\n"
     ]
    }
   ],
   "source": [
    "# Kinetic Energy\n",
    "\n",
    "E_kin = np.zeros(size)\n",
    "\n",
    "for i in range(size): \n",
    "    E_kin[i] += 1/2 * mass * vel_squared(vx, vy, vz)\n",
    "print(E_kin)"
   ]
  },
  {
   "cell_type": "code",
   "execution_count": 10,
   "id": "cf1e689f",
   "metadata": {},
   "outputs": [],
   "source": [
    "# Lennard - Jones Potential\n",
    "\n",
    "E = np.zeros(size)\n",
    "\n",
    "for i in range(size - 1): \n",
    "    for j in range(i+1, size): \n",
    "        if j < (1250 * i):                           # making sure only particles from same timestep are iterated over\n",
    "            pass \n",
    "        elif j > (1250 * i+1):\n",
    "            pass\n",
    "        elif distance(x, y, z) < cut_off:            # use cut_off_HS instead when using HS potential\n",
    "            E[i] += Lennard_Jones(x,y,z)            # using Lennard-Jones potential\n",
    "            # E[i] += Pseudo_HS(x,y,z) # using Pseudo-Hard-Sphere potential (choose one of the two)\n",
    "        else:\n",
    "            pass    "
   ]
  },
  {
   "cell_type": "code",
   "execution_count": 13,
   "id": "f265a9ea",
   "metadata": {},
   "outputs": [
    {
     "name": "stdout",
     "output_type": "stream",
     "text": [
      "[0.         0.23585067 0.         ... 0.         0.         0.        ]\n"
     ]
    }
   ],
   "source": [
    "# Differential in potential energy (approximated by difference between potential in two consecutive timesteps)\n",
    "\n",
    "d_U = np.zeros(size)\n",
    "for i in range(size - 1250): \n",
    "    d_U[i] += E[i + 1250] - E[i]\n",
    "\n",
    "print(d_U)"
   ]
  },
  {
   "cell_type": "code",
   "execution_count": 15,
   "id": "b23d65d4",
   "metadata": {},
   "outputs": [
    {
     "name": "stdout",
     "output_type": "stream",
     "text": [
      "62500\n",
      "62500\n",
      "49.0\n"
     ]
    }
   ],
   "source": [
    "print(len(d_U))\n",
    "print(len(E))\n",
    "print(size/1250 - 1)"
   ]
  },
  {
   "cell_type": "code",
   "execution_count": 16,
   "id": "9cbe5552",
   "metadata": {},
   "outputs": [],
   "source": [
    "# Pressure\n",
    "\n",
    "Pressure = np.zeros(int(size/1250 - 1))\n",
    "for i in range(int(size/1250 - 1)):\n",
    "    for j in range(1250 * i):\n",
    "        Pressure[i] += 1/(3*volume) * (E_kin[j] + d_U[j])\n",
    "        "
   ]
  },
  {
   "cell_type": "code",
   "execution_count": 17,
   "id": "78be9f1f",
   "metadata": {},
   "outputs": [
    {
     "name": "stdout",
     "output_type": "stream",
     "text": [
      "[0.00000000e+00 2.58008905e+24 2.58008905e+24 2.58008905e+24\n",
      " 2.58008905e+24 2.58008905e+24 2.58008905e+24 2.58008905e+24\n",
      " 2.58008905e+24 2.58008905e+24 2.58008905e+24 2.58008905e+24\n",
      " 2.58008905e+24 2.58008905e+24 2.58008905e+24 2.58008905e+24\n",
      " 2.58008905e+24 2.58008905e+24 2.58008905e+24 2.58008905e+24\n",
      " 2.58008905e+24 2.58008905e+24 2.58008905e+24 2.58008905e+24\n",
      " 2.58008905e+24 2.58008905e+24 2.58008905e+24 2.58008905e+24\n",
      " 2.58008905e+24 2.58008905e+24 2.58008905e+24 2.58008905e+24\n",
      " 2.58008905e+24 2.58008905e+24 2.58008905e+24 2.58008905e+24\n",
      " 2.58008905e+24 2.58008905e+24 2.58008905e+24 2.58008905e+24\n",
      " 2.58008905e+24 2.58008905e+24 2.58008905e+24 2.58008905e+24\n",
      " 2.58008905e+24 2.58008905e+24 2.58008905e+24 2.58008905e+24\n",
      " 2.58008905e+24]\n"
     ]
    }
   ],
   "source": [
    "print(Pressure)"
   ]
  },
  {
   "cell_type": "markdown",
   "id": "a5a110da",
   "metadata": {},
   "source": [
    "4.2 Time - Evolution of Enthalpy\n",
    "\n",
    "- Enthalpy is defined as H = U + pV\n",
    "- U is the internal energy given by the potental energy \n",
    "- pV is obtained from the virial expression for the pressure calculated from "
   ]
  },
  {
   "cell_type": "code",
   "execution_count": 21,
   "id": "de698dee",
   "metadata": {},
   "outputs": [
    {
     "name": "stdout",
     "output_type": "stream",
     "text": [
      "[ 0.00000000e+00 -1.47325448e+02  8.12190658e-02  8.12190658e-02\n",
      "  8.12190658e-02  8.12190658e-02 -1.25815178e+01 -8.76742373e+02\n",
      "  8.12190658e-02  8.12190658e-02  8.12190658e-02  8.12190658e-02\n",
      "  8.12190658e-02 -1.14971012e+02  8.12190658e-02  8.12190658e-02\n",
      "  8.12190658e-02  8.12190658e-02 -3.39869658e+01  8.12190658e-02\n",
      "  8.12190658e-02  8.12190658e-02  8.12190658e-02  8.12190658e-02\n",
      "  8.12190658e-02  8.12190658e-02  8.12190658e-02  8.12190658e-02\n",
      "  8.12190658e-02  8.12190658e-02  8.12190658e-02  8.12190658e-02\n",
      " -1.90330716e+02  8.12190658e-02  8.12190658e-02 -3.03717631e+02\n",
      " -9.28371036e+01  8.12190658e-02  8.12190658e-02  8.12190658e-02\n",
      "  8.12190658e-02  8.12190658e-02 -7.71822818e+01  8.12190658e-02\n",
      "  8.12190658e-02  8.12190658e-02  8.12190658e-02  8.12190658e-02\n",
      "  8.12190658e-02]\n"
     ]
    }
   ],
   "source": [
    "Enthalpy = np.zeros(int(size/1250 - 1))\n",
    "for i in range(int(size/1250 - 1)):\n",
    "    for j in range(1250 * i):\n",
    "        Enthalpy[i] += E[i] + 1/3 * (E_kin[j] + d_U[j]) \n",
    "\n",
    "total_Enthalpy = 0.5 * Enthalpy # multiply by 0.5 to avoid double-counting\n",
    "print(total_Enthalpy)"
   ]
  },
  {
   "cell_type": "markdown",
   "id": "8a87c5bc",
   "metadata": {},
   "source": [
    "4.3 Statistical Analysis"
   ]
  },
  {
   "cell_type": "code",
   "execution_count": 27,
   "id": "cc136e6d",
   "metadata": {},
   "outputs": [
    {
     "data": {
      "text/plain": [
       "[<matplotlib.lines.Line2D at 0x7fba93a409a0>]"
      ]
     },
     "execution_count": 27,
     "metadata": {},
     "output_type": "execute_result"
    },
    {
     "data": {
      "image/png": "[encoded data removed]",
      "text/plain": [
       "<Figure size 432x288 with 1 Axes>"
      ]
     },
     "metadata": {
      "needs_background": "light"
     },
     "output_type": "display_data"
    }
   ],
   "source": [
    "# Plot Pressure and Enthalpy \n",
    "\n",
    "x = range(int(size/1250 - 2))\n",
    "plt.plot(x, Pressure[1:49])"
   ]
  },
  {
   "cell_type": "code",
   "execution_count": 30,
   "id": "b877c558",
   "metadata": {},
   "outputs": [
    {
     "name": "stdout",
     "output_type": "stream",
     "text": [
      "[1.26424364e+25 1.26424364e+25 1.26424364e+25 1.26424364e+25\n",
      " 1.26424364e+25]\n",
      "[7.74026716e+23 7.74026716e+23 7.74026716e+23 7.74026716e+23\n",
      " 7.74026716e+23]\n",
      "[1.26424364e+25 1.26424364e+25 1.26424364e+25 1.26424364e+25\n",
      " 1.26424364e+25]\n",
      "[7.74026716e+23 7.74026716e+23 7.74026716e+23 7.74026716e+23\n",
      " 7.74026716e+23]\n"
     ]
    }
   ],
   "source": [
    "# Averaging over 5 values\n",
    "\n",
    "pressure_avg = np.zeros(5)\n",
    "pressure_std = np.zeros(5)\n",
    "\n",
    "enthalpy_avg = np.zeros(5)\n",
    "enthalpy_std = np.zeros(5)\n",
    "\n",
    "for i in range(5):\n",
    "        pressure_avg += np.mean(Pressure[i:(i+10)])\n",
    "        pressure_std += np.std(Pressure[i:(i+10)])\n",
    "        \n",
    "        enthalpy_avg += np.mean(Pressure[i:(i+10)])\n",
    "        enthalpy_std += np.std(Pressure[i:(i+10)])\n",
    "\n",
    "print(pressure_avg)\n",
    "print(pressure_std)\n",
    "\n",
    "print(enthalpy_avg)\n",
    "print(enthalpy_std)"
   ]
  },
  {
   "cell_type": "code",
   "execution_count": 31,
   "id": "3bf18581",
   "metadata": {},
   "outputs": [
    {
     "name": "stdout",
     "output_type": "stream",
     "text": [
      "[2.52848727e+25 2.52848727e+25 2.52848727e+25 2.52848727e+25\n",
      " 2.52848727e+25 2.52848727e+25 2.52848727e+25 2.52848727e+25\n",
      " 2.52848727e+25 2.52848727e+25]\n",
      "[1.03203562e+24 1.03203562e+24 1.03203562e+24 1.03203562e+24\n",
      " 1.03203562e+24 1.03203562e+24 1.03203562e+24 1.03203562e+24\n",
      " 1.03203562e+24 1.03203562e+24]\n",
      "[2.52848727e+25 2.52848727e+25 2.52848727e+25 2.52848727e+25\n",
      " 2.52848727e+25 2.52848727e+25 2.52848727e+25 2.52848727e+25\n",
      " 2.52848727e+25 2.52848727e+25]\n",
      "[1.03203562e+24 1.03203562e+24 1.03203562e+24 1.03203562e+24\n",
      " 1.03203562e+24 1.03203562e+24 1.03203562e+24 1.03203562e+24\n",
      " 1.03203562e+24 1.03203562e+24]\n"
     ]
    }
   ],
   "source": [
    "# Averaging over 10 values\n",
    "\n",
    "pressure_avg = np.zeros(10)\n",
    "pressure_std = np.zeros(10)\n",
    "\n",
    "enthalpy_avg = np.zeros(10)\n",
    "enthalpy_std = np.zeros(10)\n",
    "\n",
    "for i in range(10):\n",
    "        pressure_avg += np.mean(Pressure[i:(i+5)])\n",
    "        pressure_std += np.std(Pressure[i:(i+5)])\n",
    "        \n",
    "        enthalpy_avg += np.mean(Pressure[i:(i+5)])\n",
    "        enthalpy_std += np.std(Pressure[i:(i+5)])\n",
    "        \n",
    "print(pressure_avg)\n",
    "print(pressure_std)\n",
    "\n",
    "print(enthalpy_avg)\n",
    "print(enthalpy_std)"
   ]
  }
 ],
 "metadata": {
  "kernelspec": {
   "display_name": "Python 3",
   "language": "python",
   "name": "python3"
  },
  "language_info": {
   "codemirror_mode": {
    "name": "ipython",
    "version": 3
   },
   "file_extension": ".py",
   "mimetype": "text/x-python",
   "name": "python",
   "nbconvert_exporter": "python",
   "pygments_lexer": "ipython3",
   "version": "3.8.8"
  }
 },
 "nbformat": 4,
 "nbformat_minor": 5
}
