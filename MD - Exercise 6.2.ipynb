{
 "cells": [
  {
   "cell_type": "code",
   "execution_count": 1,
   "id": "89c6332d",
   "metadata": {},
   "outputs": [],
   "source": [
    "import matplotlib.pyplot as plt\n",
    "import numpy as np\n",
    "import pandas"
   ]
  },
  {
   "cell_type": "code",
   "execution_count": 2,
   "id": "3bc433c2",
   "metadata": {},
   "outputs": [
    {
     "name": "stdout",
     "output_type": "stream",
     "text": [
      "7.485492849045729e-10\n",
      "1.9119312156021665e-26\n"
     ]
    }
   ],
   "source": [
    "#Constants\n",
    "\n",
    "size = 144000\n",
    "lower_xy = 3.4973054145025765e-08\n",
    "upper_xy = 4.0026945854974235e-08\n",
    "\n",
    "lower_z = 1.1377176072643133e-07\n",
    "upper_z = 1.3622823927356853e-07\n",
    "\n",
    "No_bins = 30\n",
    "\n",
    "bin_z = (1.3622823927356853e-07 - 1.1377176072643133e-07)/No_bins\n",
    "print(bin_z)\n",
    "\n",
    "volume_bin = (upper_xy - lower_xy) ** 2 * (upper_z - lower_z)/No_bins\n",
    "print(volume_bin)\n",
    "\n",
    "\n",
    "cut_off = 4.1e-10 # cut-off for polymer chains to be considered in 'direct contact'\n",
    "sigma = 3.4e-10\n"
   ]
  },
  {
   "cell_type": "code",
   "execution_count": 3,
   "id": "a537d937",
   "metadata": {},
   "outputs": [
    {
     "name": "stdout",
     "output_type": "stream",
     "text": [
      "144000\n"
     ]
    }
   ],
   "source": [
    "# generate list with all line numbers that will be read in \n",
    "header = 9\n",
    "atoms_no = 3600\n",
    "\n",
    "\n",
    "line_numbers = []\n",
    "for i in range(144360):\n",
    "    if (i+1) % (atoms_no + header) <= header and (i+1) % (atoms_no + header) != 0:\n",
    "        pass\n",
    "    else:\n",
    "        line_numbers.append(i)\n",
    "        \n",
    "print(len(line_numbers))"
   ]
  },
  {
   "cell_type": "code",
   "execution_count": 4,
   "id": "984a8014",
   "metadata": {},
   "outputs": [],
   "source": [
    "# Read in Data Files\n",
    "\n",
    "with open(r\"264K.xyz\", 'r') as file:\n",
    "    lines = []\n",
    "    for i, line in enumerate(file):\n",
    "        if i in line_numbers:\n",
    "            lines.append(line.strip())\n",
    "        else:\n",
    "            pass"
   ]
  },
  {
   "cell_type": "code",
   "execution_count": 5,
   "id": "38211a8b",
   "metadata": {},
   "outputs": [
    {
     "name": "stdout",
     "output_type": "stream",
     "text": [
      "[1.000e+00 2.000e+00 3.000e+00 ... 3.598e+03 3.599e+03 3.600e+03]\n",
      "144000\n"
     ]
    }
   ],
   "source": [
    "input_array = np.array(lines)\n",
    "new_input = np.array([np.array([float(i.strip()) for i in j.split(' ') if i]) for j in input_array])\n",
    "array = np.transpose(new_input)\n",
    "print(array[0]) \n",
    "\n",
    "item = array[0]\n",
    "atom = array[1]\n",
    "identity = array[2]\n",
    "\n",
    "x = (upper_xy-lower_xy) * array[3] + lower_xy # x coordinate of particle inside box (in m)\n",
    "y = (upper_xy-lower_xy) * array[4] + lower_xy\n",
    "z = (upper_z-lower_z) * array[5] + lower_z\n",
    "\n",
    "print(len(item))"
   ]
  },
  {
   "cell_type": "code",
   "execution_count": 6,
   "id": "2f9b99d0",
   "metadata": {},
   "outputs": [],
   "source": [
    "# Number of atoms in each bin\n",
    "\n",
    "N_total = []\n",
    "\n",
    "for j in range(No_bins):\n",
    "    for m in range(40):\n",
    "        N = 0\n",
    "        lower = m*3600\n",
    "        upper = (m+1)*3600\n",
    "        for i in range(lower, upper):\n",
    "            if lower_z+j*bin_z < z[i] < lower_z+(j+1)*bin_z:\n",
    "                 N += 1/40 # Divide by 40 to account for iteration over 40 frames\n",
    "            else: \n",
    "                 pass\n",
    "    N_total.append(N)"
   ]
  },
  {
   "cell_type": "code",
   "execution_count": 7,
   "id": "90e72fd4",
   "metadata": {
    "scrolled": true
   },
   "outputs": [
    {
     "data": {
      "text/plain": [
       "[<matplotlib.lines.Line2D at 0x7f89d923a640>]"
      ]
     },
     "execution_count": 7,
     "metadata": {},
     "output_type": "execute_result"
    },
    {
     "data": {
      "image/png": "[encoded data removed]",
      "text/plain": [
       "<Figure size 432x288 with 1 Axes>"
      ]
     },
     "metadata": {
      "needs_background": "light"
     },
     "output_type": "display_data"
    }
   ],
   "source": [
    "# Plot Density vs. bin\n",
    "N_density = np.array(N_total) / volume_bin * sigma**3\n",
    "x = np.arange(No_bins)\n",
    "plt.plot(x, N_density)"
   ]
  },
  {
   "cell_type": "markdown",
   "id": "2b585f06",
   "metadata": {},
   "source": [
    "From the plot we can see that the liquid phase has ρ = 0.012 and the vapour phase has ρ = 0. "
   ]
  },
  {
   "cell_type": "code",
   "execution_count": 15,
   "id": "bcdfe997",
   "metadata": {
    "scrolled": true
   },
   "outputs": [
    {
     "name": "stdout",
     "output_type": "stream",
     "text": [
      "[1.000e+00 2.000e+00 3.000e+00 ... 3.598e+03 3.599e+03 3.600e+03]\n",
      "144000\n"
     ]
    },
    {
     "data": {
      "text/plain": [
       "[<matplotlib.lines.Line2D at 0x7f89bfea2a60>]"
      ]
     },
     "execution_count": 15,
     "metadata": {},
     "output_type": "execute_result"
    },
    {
     "data": {
      "image/png": "[encoded data removed]",
      "text/plain": [
       "<Figure size 432x288 with 1 Axes>"
      ]
     },
     "metadata": {
      "needs_background": "light"
     },
     "output_type": "display_data"
    }
   ],
   "source": [
    "### 276 KELVIN ###\n",
    "\n",
    "with open(r\"276K.xyz\", 'r') as file:\n",
    "    lines = []\n",
    "    for i, line in enumerate(file):\n",
    "        if i in line_numbers:\n",
    "            lines.append(line.strip())\n",
    "        else:\n",
    "            pass\n",
    "        \n",
    "input_array = np.array(lines)\n",
    "new_input = np.array([np.array([float(i.strip()) for i in j.split(' ') if i]) for j in input_array])\n",
    "array = np.transpose(new_input)\n",
    "print(array[0]) \n",
    "\n",
    "item = array[0]\n",
    "atom = array[1]\n",
    "identity = array[2]\n",
    "\n",
    "x = (upper_xy-lower_xy) * array[3] + lower_xy # x coordinate of particle inside box (in m)\n",
    "y = (upper_xy-lower_xy) * array[4] + lower_xy\n",
    "z = (upper_z-lower_z) * array[5] + lower_z\n",
    "\n",
    "print(len(item))  \n",
    "\n",
    "# Number of atoms in each bin\n",
    "\n",
    "N_total = []\n",
    "\n",
    "for j in range(No_bins):\n",
    "    for m in range(40):\n",
    "        N = 0\n",
    "        lower = m*3600\n",
    "        upper = (m+1)*3600\n",
    "        for i in range(lower, upper):\n",
    "            if lower_z+j*bin_z < z[i] < lower_z+(j+1)*bin_z:\n",
    "                 N += 1/40 # Divide by 40 to account for iteration over 40 frames\n",
    "            else: \n",
    "                 pass\n",
    "    N_total.append(N)\n",
    "\n",
    "# Plot Density vs. bin\n",
    "N_density = np.array(N_total) / volume_bin * sigma**3\n",
    "x = np.arange(No_bins)\n",
    "plt.plot(x, N_density)"
   ]
  },
  {
   "cell_type": "markdown",
   "id": "c6ac81a1",
   "metadata": {},
   "source": [
    "From the plot we can see that the liquid phase has ρ = 0.010 and the vapour phase has ρ = 0."
   ]
  },
  {
   "cell_type": "code",
   "execution_count": 9,
   "id": "8d55a89d",
   "metadata": {},
   "outputs": [
    {
     "name": "stdout",
     "output_type": "stream",
     "text": [
      "[1.000e+00 2.000e+00 3.000e+00 ... 3.598e+03 3.599e+03 3.600e+03]\n",
      "144000\n"
     ]
    },
    {
     "data": {
      "text/plain": [
       "[<matplotlib.lines.Line2D at 0x7f89d8cf4130>]"
      ]
     },
     "execution_count": 9,
     "metadata": {},
     "output_type": "execute_result"
    },
    {
     "data": {
      "image/png": "[encoded data removed]",
      "text/plain": [
       "<Figure size 432x288 with 1 Axes>"
      ]
     },
     "metadata": {
      "needs_background": "light"
     },
     "output_type": "display_data"
    }
   ],
   "source": [
    "### 288 KELVIN ###\n",
    "\n",
    "with open(r\"288K.xyz\", 'r') as file:\n",
    "    lines = []\n",
    "    for i, line in enumerate(file):\n",
    "        if i in line_numbers:\n",
    "            lines.append(line.strip())\n",
    "        else:\n",
    "            pass\n",
    "        \n",
    "input_array = np.array(lines)\n",
    "new_input = np.array([np.array([float(i.strip()) for i in j.split(' ') if i]) for j in input_array])\n",
    "array = np.transpose(new_input)\n",
    "print(array[0]) \n",
    "\n",
    "item = array[0]\n",
    "atom = array[1]\n",
    "identity = array[2]\n",
    "\n",
    "x = (upper_xy-lower_xy) * array[3] + lower_xy # x coordinate of particle inside box (in m)\n",
    "y = (upper_xy-lower_xy) * array[4] + lower_xy\n",
    "z = (upper_z-lower_z) * array[5] + lower_z\n",
    "\n",
    "print(len(item))     \n",
    "\n",
    "# Number of atoms in each bin\n",
    "\n",
    "N_total = []\n",
    "\n",
    "for j in range(No_bins):\n",
    "    for m in range(40):\n",
    "        N = 0\n",
    "        lower = m*3600\n",
    "        upper = (m+1)*3600\n",
    "        for i in range(lower, upper):\n",
    "            if lower_z+j*bin_z < z[i] < lower_z+(j+1)*bin_z:\n",
    "                 N += 1/40 # Divide by 40 to account for iteration over 40 frames\n",
    "            else: \n",
    "                 pass\n",
    "    N_total.append(N)\n",
    "\n",
    "# Plot Density vs. bin\n",
    "N_density = np.array(N_total) / volume_bin * sigma**3\n",
    "x = np.arange(No_bins)\n",
    "plt.plot(x, N_density)"
   ]
  },
  {
   "cell_type": "raw",
   "id": "665d4fd9",
   "metadata": {},
   "source": [
    "From the plot we can see that the liquid phase has ρ = 0.012 and the vapour phase has ρ = 0."
   ]
  },
  {
   "cell_type": "code",
   "execution_count": 10,
   "id": "2413a185",
   "metadata": {},
   "outputs": [
    {
     "name": "stdout",
     "output_type": "stream",
     "text": [
      "[1.000e+00 2.000e+00 3.000e+00 ... 3.598e+03 3.599e+03 3.600e+03]\n",
      "144000\n"
     ]
    },
    {
     "data": {
      "text/plain": [
       "[<matplotlib.lines.Line2D at 0x7f89c4ad53d0>]"
      ]
     },
     "execution_count": 10,
     "metadata": {},
     "output_type": "execute_result"
    },
    {
     "data": {
      "image/png": "[encoded data removed]",
      "text/plain": [
       "<Figure size 432x288 with 1 Axes>"
      ]
     },
     "metadata": {
      "needs_background": "light"
     },
     "output_type": "display_data"
    }
   ],
   "source": [
    "### 300 KELVIN ###\n",
    "\n",
    "with open(r\"300K.xyz\", 'r') as file:\n",
    "    lines = []\n",
    "    for i, line in enumerate(file):\n",
    "        if i in line_numbers:\n",
    "            lines.append(line.strip())\n",
    "        else:\n",
    "            pass\n",
    "        \n",
    "input_array = np.array(lines)\n",
    "new_input = np.array([np.array([float(i.strip()) for i in j.split(' ') if i]) for j in input_array])\n",
    "array = np.transpose(new_input)\n",
    "print(array[0]) \n",
    "\n",
    "item = array[0]\n",
    "atom = array[1]\n",
    "identity = array[2]\n",
    "\n",
    "x = (upper_xy-lower_xy) * array[3] + lower_xy # x coordinate of particle inside box (in m)\n",
    "y = (upper_xy-lower_xy) * array[4] + lower_xy\n",
    "z = (upper_z-lower_z) * array[5] + lower_z\n",
    "\n",
    "print(len(item))     \n",
    "\n",
    "# Number of atoms in each bin\n",
    "\n",
    "N_total = []\n",
    "\n",
    "for j in range(No_bins):\n",
    "    for m in range(40):\n",
    "        N = 0\n",
    "        lower = m*3600\n",
    "        upper = (m+1)*3600\n",
    "        for i in range(lower, upper):\n",
    "            if lower_z+j*bin_z < z[i] < lower_z+(j+1)*bin_z:\n",
    "                 N += 1/40 # Divide by 40 to account for iteration over 40 frames\n",
    "            else: \n",
    "                 pass\n",
    "    N_total.append(N)\n",
    "\n",
    "# Plot Density vs. bin\n",
    "N_density = np.array(N_total) / volume_bin * sigma**3\n",
    "x = np.arange(No_bins)\n",
    "plt.plot(x, N_density)           "
   ]
  },
  {
   "cell_type": "markdown",
   "id": "e40403bf",
   "metadata": {},
   "source": [
    "From the plot we can see that the liquid phase has ρ = 0.007 and the vapour phase has ρ = 0.002."
   ]
  },
  {
   "cell_type": "code",
   "execution_count": 18,
   "id": "902d18b8",
   "metadata": {},
   "outputs": [
    {
     "data": {
      "text/plain": [
       "<matplotlib.collections.PathCollection at 0x7f89bff991f0>"
      ]
     },
     "execution_count": 18,
     "metadata": {},
     "output_type": "execute_result"
    },
    {
     "data": {
      "image/png": "[encoded data removed]",
      "text/plain": [
       "<Figure size 432x288 with 1 Axes>"
      ]
     },
     "metadata": {
      "needs_background": "light"
     },
     "output_type": "display_data"
    }
   ],
   "source": [
    "# Plot Temperature vs. density (in the two limits of low and high bin number)\n",
    "\n",
    "x = [264, 264, 276, 276, 288, 288, 300, 300]\n",
    "y = [0, 0.012, 0, 0.011, 0, 0.010, 0.002, 0.007]\n",
    "\n",
    "plt.scatter(y, x)"
   ]
  },
  {
   "cell_type": "markdown",
   "id": "98fc175b",
   "metadata": {},
   "source": [
    "From the plot above we can conclude that the critical temperature occurs slightly above 300K, say between 300 and 310K, with a critical pressure in the range 0.003 to 0.005 (in reduced units)."
   ]
  }
 ],
 "metadata": {
  "kernelspec": {
   "display_name": "Python 3",
   "language": "python",
   "name": "python3"
  },
  "language_info": {
   "codemirror_mode": {
    "name": "ipython",
    "version": 3
   },
   "file_extension": ".py",
   "mimetype": "text/x-python",
   "name": "python",
   "nbconvert_exporter": "python",
   "pygments_lexer": "ipython3",
   "version": "3.8.8"
  }
 },
 "nbformat": 4,
 "nbformat_minor": 5
}
