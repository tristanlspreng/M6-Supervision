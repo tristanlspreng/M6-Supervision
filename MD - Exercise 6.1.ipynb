{
 "cells": [
  {
   "cell_type": "code",
   "execution_count": 21,
   "id": "ab52d81d",
   "metadata": {},
   "outputs": [],
   "source": [
    "import matplotlib.pyplot as plt\n",
    "import numpy as np\n",
    "import pandas"
   ]
  },
  {
   "cell_type": "code",
   "execution_count": 22,
   "id": "7f668977",
   "metadata": {},
   "outputs": [
    {
     "name": "stdout",
     "output_type": "stream",
     "text": [
      "5.735793646806499e-25\n"
     ]
    }
   ],
   "source": [
    "#Constants\n",
    "\n",
    "size = 144000\n",
    "lower_xy = 3.4973054145025765e-08\n",
    "upper_xy = 4.0026945854974235e-08\n",
    "\n",
    "lower_z = 1.1377176072643133e-07\n",
    "upper_z = 1.3622823927356853e-07\n",
    "volume = (upper_xy - lower_xy) ** 2 * (upper_z - lower_z)\n",
    "print(volume)\n",
    "\n",
    "cut_off = 4.1e-10 # cut-off for polymer chains to be considered in 'direct contact'"
   ]
  },
  {
   "cell_type": "code",
   "execution_count": 23,
   "id": "c9c1c020",
   "metadata": {},
   "outputs": [
    {
     "name": "stdout",
     "output_type": "stream",
     "text": [
      "144000\n"
     ]
    }
   ],
   "source": [
    "# generate list with all line numbers that will be read in \n",
    "header = 9\n",
    "atoms_no = 3600\n",
    "\n",
    "\n",
    "line_numbers = []\n",
    "for i in range(144360):\n",
    "    if (i+1) % (atoms_no + header) <= header and (i+1) % (atoms_no + header) != 0:\n",
    "        pass\n",
    "    else:\n",
    "        line_numbers.append(i)\n",
    "        \n",
    "print(len(line_numbers))"
   ]
  },
  {
   "cell_type": "code",
   "execution_count": 24,
   "id": "2c88fe65",
   "metadata": {},
   "outputs": [],
   "source": [
    "# Read in Data Files\n",
    "\n",
    "with open(r\"264K.xyz\", 'r') as file:\n",
    "    lines = []\n",
    "    for i, line in enumerate(file):\n",
    "        if i in line_numbers:\n",
    "            lines.append(line.strip())\n",
    "        else:\n",
    "            pass"
   ]
  },
  {
   "cell_type": "code",
   "execution_count": 25,
   "id": "f92e7666",
   "metadata": {},
   "outputs": [
    {
     "name": "stdout",
     "output_type": "stream",
     "text": [
      "[1.000e+00 2.000e+00 3.000e+00 ... 3.598e+03 3.599e+03 3.600e+03]\n",
      "144000\n"
     ]
    }
   ],
   "source": [
    "input_array = np.array(lines)\n",
    "new_input = np.array([np.array([float(i.strip()) for i in j.split(' ') if i]) for j in input_array])\n",
    "array = np.transpose(new_input)\n",
    "print(array[0]) \n",
    "\n",
    "item = array[0]\n",
    "atom = array[1]\n",
    "identity = array[2]\n",
    "\n",
    "x = (upper_xy-lower_xy) * array[3] + lower_xy # x coordinate of particle inside box (in m)\n",
    "y = (upper_xy-lower_xy) * array[4] + lower_xy\n",
    "z = (upper_z-lower_z) * array[5] + lower_z\n",
    "\n",
    "print(len(item))"
   ]
  },
  {
   "cell_type": "code",
   "execution_count": 26,
   "id": "3eb13e7d",
   "metadata": {},
   "outputs": [],
   "source": [
    "def distance(x, y, z):\n",
    "    return np.sqrt((x[i]-x[j])**2 + (y[i]-y[j])**2 + (z[i]-z[j])**2)"
   ]
  },
  {
   "cell_type": "code",
   "execution_count": 27,
   "id": "944ac784",
   "metadata": {},
   "outputs": [],
   "source": [
    "# Number of nearest neighbors (including intra-molecular interactions)\n",
    "\n",
    "N = 0\n",
    "\n",
    "for m in range(40):\n",
    "    lower = m*3600\n",
    "    upper = (m+1)*3600\n",
    "    for i in range(lower, upper-1):\n",
    "        for j in range(i+1, upper):\n",
    "            if distance(x, y, z) < cut_off:\n",
    "                N += 1\n",
    "            else: \n",
    "                pass"
   ]
  },
  {
   "cell_type": "code",
   "execution_count": 29,
   "id": "87069a0f",
   "metadata": {},
   "outputs": [
    {
     "name": "stdout",
     "output_type": "stream",
     "text": [
      "230734\n",
      "The value of Nc is: 0.6273194444444444\n"
     ]
    }
   ],
   "source": [
    "# Number of nearest neighbors \n",
    "# There are (38*2 + 2)2 = 39 nearest-neighbor interactions per polymer chain\n",
    "# There are 90 polymer chains times 40 timesteps: 39*90*40 = 140400\n",
    "# Subtract this number from N to give inter-molecular nearest-neighbors Nc\n",
    "\n",
    "print(N)\n",
    "Nc = 1/40*1/3600*(N-140400)\n",
    "print(\"The value of Nc is:\", Nc)"
   ]
  },
  {
   "cell_type": "code",
   "execution_count": 30,
   "id": "097e21b8",
   "metadata": {},
   "outputs": [
    {
     "name": "stdout",
     "output_type": "stream",
     "text": [
      "[1.000e+00 2.000e+00 3.000e+00 ... 3.598e+03 3.599e+03 3.600e+03]\n",
      "144000\n",
      "The value of Nc is: 0.5711041666666667\n"
     ]
    }
   ],
   "source": [
    "### 276 KELVIN ###\n",
    "\n",
    "with open(r\"276K.xyz\", 'r') as file:\n",
    "    lines = []\n",
    "    for i, line in enumerate(file):\n",
    "        if i in line_numbers:\n",
    "            lines.append(line.strip())\n",
    "        else:\n",
    "            pass\n",
    "        \n",
    "input_array = np.array(lines)\n",
    "new_input = np.array([np.array([float(i.strip()) for i in j.split(' ') if i]) for j in input_array])\n",
    "array = np.transpose(new_input)\n",
    "print(array[0]) \n",
    "\n",
    "item = array[0]\n",
    "atom = array[1]\n",
    "identity = array[2]\n",
    "\n",
    "x = (upper_xy-lower_xy) * array[3] + lower_xy # x coordinate of particle inside box (in m)\n",
    "y = (upper_xy-lower_xy) * array[4] + lower_xy\n",
    "z = (upper_z-lower_z) * array[5] + lower_z\n",
    "\n",
    "print(len(item))     \n",
    "\n",
    "# Number of nearest neighbors (including intra-molecular interactions)\n",
    "\n",
    "N = 0\n",
    "\n",
    "for m in range(40):\n",
    "    lower = m*3600\n",
    "    upper = (m+1)*3600\n",
    "    for i in range(lower, upper-1):\n",
    "        for j in range(i+1, upper):\n",
    "            if distance(x, y, z) < cut_off:\n",
    "                N += 1\n",
    "            else: \n",
    "                pass\n",
    "            \n",
    "Nc_276 = 1/40*1/3600*(N-140400)\n",
    "print(\"The value of Nc is:\", Nc_276)            "
   ]
  },
  {
   "cell_type": "code",
   "execution_count": 31,
   "id": "07f1c847",
   "metadata": {},
   "outputs": [
    {
     "name": "stdout",
     "output_type": "stream",
     "text": [
      "[1.000e+00 2.000e+00 3.000e+00 ... 3.598e+03 3.599e+03 3.600e+03]\n",
      "144000\n",
      "The value of Nc is: 0.4703611111111111\n"
     ]
    }
   ],
   "source": [
    "### 288 KELVIN ###\n",
    "\n",
    "with open(r\"288K.xyz\", 'r') as file:\n",
    "    lines = []\n",
    "    for i, line in enumerate(file):\n",
    "        if i in line_numbers:\n",
    "            lines.append(line.strip())\n",
    "        else:\n",
    "            pass\n",
    "        \n",
    "input_array = np.array(lines)\n",
    "new_input = np.array([np.array([float(i.strip()) for i in j.split(' ') if i]) for j in input_array])\n",
    "array = np.transpose(new_input)\n",
    "print(array[0]) \n",
    "\n",
    "item = array[0]\n",
    "atom = array[1]\n",
    "identity = array[2]\n",
    "\n",
    "x = (upper_xy-lower_xy) * array[3] + lower_xy # x coordinate of particle inside box (in m)\n",
    "y = (upper_xy-lower_xy) * array[4] + lower_xy\n",
    "z = (upper_z-lower_z) * array[5] + lower_z\n",
    "\n",
    "print(len(item))     \n",
    "\n",
    "# Number of nearest neighbors (including intra-molecular interactions)\n",
    "\n",
    "N = 0\n",
    "\n",
    "for m in range(40):\n",
    "    lower = m*3600\n",
    "    upper = (m+1)*3600\n",
    "    for i in range(lower, upper-1):\n",
    "        for j in range(i+1, upper):\n",
    "            if distance(x, y, z) < cut_off:\n",
    "                N += 1\n",
    "            else: \n",
    "                pass\n",
    "            \n",
    "Nc_288 = 1/40*1/3600*(N-140400)\n",
    "print(\"The value of Nc is:\", Nc_288)            "
   ]
  },
  {
   "cell_type": "code",
   "execution_count": 32,
   "id": "8c45f3bc",
   "metadata": {},
   "outputs": [
    {
     "name": "stdout",
     "output_type": "stream",
     "text": [
      "[1.000e+00 2.000e+00 3.000e+00 ... 3.598e+03 3.599e+03 3.600e+03]\n",
      "144000\n",
      "The value of Nc is: 0.3147916666666667\n"
     ]
    }
   ],
   "source": [
    "### 300 KELVIN ###\n",
    "\n",
    "with open(r\"300K.xyz\", 'r') as file:\n",
    "    lines = []\n",
    "    for i, line in enumerate(file):\n",
    "        if i in line_numbers:\n",
    "            lines.append(line.strip())\n",
    "        else:\n",
    "            pass\n",
    "        \n",
    "input_array = np.array(lines)\n",
    "new_input = np.array([np.array([float(i.strip()) for i in j.split(' ') if i]) for j in input_array])\n",
    "array = np.transpose(new_input)\n",
    "print(array[0]) \n",
    "\n",
    "item = array[0]\n",
    "atom = array[1]\n",
    "identity = array[2]\n",
    "\n",
    "x = (upper_xy-lower_xy) * array[3] + lower_xy # x coordinate of particle inside box (in m)\n",
    "y = (upper_xy-lower_xy) * array[4] + lower_xy\n",
    "z = (upper_z-lower_z) * array[5] + lower_z\n",
    "\n",
    "print(len(item))     \n",
    "\n",
    "# Number of nearest neighbors (including intra-molecular interactions)\n",
    "\n",
    "N = 0\n",
    "\n",
    "for m in range(40):\n",
    "    lower = m*3600\n",
    "    upper = (m+1)*3600\n",
    "    for i in range(lower, upper-1):\n",
    "        for j in range(i+1, upper):\n",
    "            if distance(x, y, z) < cut_off:\n",
    "                N += 1\n",
    "            else: \n",
    "                pass\n",
    "            \n",
    "Nc_300 = 1/40*1/3600*(N-140400)\n",
    "print(\"The value of Nc is:\", Nc_300)            "
   ]
  },
  {
   "cell_type": "code",
   "execution_count": 33,
   "id": "d9eca627",
   "metadata": {},
   "outputs": [
    {
     "data": {
      "text/plain": [
       "[<matplotlib.lines.Line2D at 0x7f8e02133a60>]"
      ]
     },
     "execution_count": 33,
     "metadata": {},
     "output_type": "execute_result"
    },
    {
     "data": {
      "image/png": "[encoded data removed]",
      "text/plain": [
       "<Figure size 432x288 with 1 Axes>"
      ]
     },
     "metadata": {
      "needs_background": "light"
     },
     "output_type": "display_data"
    }
   ],
   "source": [
    "# Plot Ns as a function of temperature \n",
    "\n",
    "x = [264, 276, 288, 300]\n",
    "y = [Nc, Nc_276, Nc_288, Nc_300]\n",
    "\n",
    "plt.plot(x,y)"
   ]
  }
 ],
 "metadata": {
  "kernelspec": {
   "display_name": "Python 3",
   "language": "python",
   "name": "python3"
  },
  "language_info": {
   "codemirror_mode": {
    "name": "ipython",
    "version": 3
   },
   "file_extension": ".py",
   "mimetype": "text/x-python",
   "name": "python",
   "nbconvert_exporter": "python",
   "pygments_lexer": "ipython3",
   "version": "3.8.8"
  }
 },
 "nbformat": 4,
 "nbformat_minor": 5
}
